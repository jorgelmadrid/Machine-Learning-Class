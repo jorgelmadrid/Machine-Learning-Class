{
 "cells": [
  {
   "cell_type": "markdown",
   "metadata": {},
   "source": [
    "# Exercise 6\n",
    "\n",
    "## SVM & Regularization\n",
    "\n",
    "\n",
    "For this homework we consider a set of observations on a number of red and white wine varieties involving their chemical properties and ranking by tasters. Wine industry shows a recent growth spurt as social drinking is on the rise. The price of wine depends on a rather abstract concept of wine appreciation by wine tasters, opinion among whom may have a high degree of variability. Pricing of wine depends on such a volatile factor to some extent. Another key factor in wine certification and quality assessment is physicochemical tests which are laboratory-based and takes into account factors like acidity, pH level, presence of sugar and other chemical properties. For the wine market, it would be of interest if human quality of tasting can be related to the chemical properties of wine so that certification and quality assessment and assurance process is more controlled.\n",
    "\n",
    "Two datasets are available of which one dataset is on red wine and have 1599 different varieties and the other is on white wine and have 4898 varieties. All wines are produced in a particular area of Portugal. Data are collected on 12 different properties of the wines one of which is Quality, based on sensory data, and the rest are on chemical properties of the wines including density, acidity, alcohol content etc. All chemical properties of wines are continuous variables. Quality is an ordinal variable with possible ranking from 1 (worst) to 10 (best). Each variety of wine is tasted by three independent tasters and the final rank assigned is the median rank given by the tasters.\n",
    "\n",
    "A predictive model developed on this data is expected to provide guidance to vineyards regarding quality and price expected on their produce without heavy reliance on volatility of wine tasters."
   ]
  },
  {
   "cell_type": "code",
   "execution_count": 1,
   "metadata": {
    "scrolled": true
   },
   "outputs": [],
   "source": [
    "import pandas as pd\n",
    "import numpy as np"
   ]
  },
  {
   "cell_type": "code",
   "execution_count": 2,
   "metadata": {},
   "outputs": [
    {
     "data": {
      "text/html": [
       "<style>\n",
       "table {float:left}\n",
       "</style>\n"
      ],
      "text/plain": [
       "<IPython.core.display.HTML object>"
      ]
     },
     "metadata": {},
     "output_type": "display_data"
    }
   ],
   "source": [
    "%%html\n",
    "<style>\n",
    "table {float:left}\n",
    "</style>"
   ]
  },
  {
   "cell_type": "code",
   "execution_count": 3,
   "metadata": {
    "scrolled": true
   },
   "outputs": [],
   "source": [
    "data_r = pd.read_csv('https://github.com/albahnsen/PracticalMachineLearningClass/raw/master/datasets/Wine_data_red.csv')\n",
    "data_w = pd.read_csv('https://github.com/albahnsen/PracticalMachineLearningClass/raw/master/datasets/Wine_data_white.csv')"
   ]
  },
  {
   "cell_type": "code",
   "execution_count": 4,
   "metadata": {
    "scrolled": true
   },
   "outputs": [
    {
     "data": {
      "text/html": [
       "<div>\n",
       "<style scoped>\n",
       "    .dataframe tbody tr th:only-of-type {\n",
       "        vertical-align: middle;\n",
       "    }\n",
       "\n",
       "    .dataframe tbody tr th {\n",
       "        vertical-align: top;\n",
       "    }\n",
       "\n",
       "    .dataframe thead th {\n",
       "        text-align: right;\n",
       "    }\n",
       "</style>\n",
       "<table border=\"1\" class=\"dataframe\">\n",
       "  <thead>\n",
       "    <tr style=\"text-align: right;\">\n",
       "      <th></th>\n",
       "      <th>fixed acidity</th>\n",
       "      <th>volatile acidity</th>\n",
       "      <th>citric acid</th>\n",
       "      <th>residual sugar</th>\n",
       "      <th>chlorides</th>\n",
       "      <th>free sulfur dioxide</th>\n",
       "      <th>total sulfur dioxide</th>\n",
       "      <th>density</th>\n",
       "      <th>pH</th>\n",
       "      <th>sulphates</th>\n",
       "      <th>alcohol</th>\n",
       "      <th>quality</th>\n",
       "      <th>type</th>\n",
       "    </tr>\n",
       "  </thead>\n",
       "  <tbody>\n",
       "    <tr>\n",
       "      <th>5036</th>\n",
       "      <td>7.8</td>\n",
       "      <td>0.56</td>\n",
       "      <td>0.19</td>\n",
       "      <td>2.1</td>\n",
       "      <td>0.081</td>\n",
       "      <td>15.0</td>\n",
       "      <td>105.0</td>\n",
       "      <td>0.99620</td>\n",
       "      <td>3.33</td>\n",
       "      <td>0.54</td>\n",
       "      <td>9.5</td>\n",
       "      <td>5</td>\n",
       "      <td>red</td>\n",
       "    </tr>\n",
       "    <tr>\n",
       "      <th>2124</th>\n",
       "      <td>7.7</td>\n",
       "      <td>0.39</td>\n",
       "      <td>0.28</td>\n",
       "      <td>4.9</td>\n",
       "      <td>0.035</td>\n",
       "      <td>36.0</td>\n",
       "      <td>109.0</td>\n",
       "      <td>0.99180</td>\n",
       "      <td>3.19</td>\n",
       "      <td>0.58</td>\n",
       "      <td>12.2</td>\n",
       "      <td>7</td>\n",
       "      <td>white</td>\n",
       "    </tr>\n",
       "    <tr>\n",
       "      <th>2885</th>\n",
       "      <td>6.9</td>\n",
       "      <td>0.40</td>\n",
       "      <td>0.30</td>\n",
       "      <td>10.6</td>\n",
       "      <td>0.033</td>\n",
       "      <td>24.0</td>\n",
       "      <td>87.0</td>\n",
       "      <td>0.99265</td>\n",
       "      <td>3.15</td>\n",
       "      <td>0.45</td>\n",
       "      <td>12.8</td>\n",
       "      <td>6</td>\n",
       "      <td>white</td>\n",
       "    </tr>\n",
       "    <tr>\n",
       "      <th>3636</th>\n",
       "      <td>6.5</td>\n",
       "      <td>0.26</td>\n",
       "      <td>0.39</td>\n",
       "      <td>1.4</td>\n",
       "      <td>0.020</td>\n",
       "      <td>12.0</td>\n",
       "      <td>66.0</td>\n",
       "      <td>0.99089</td>\n",
       "      <td>3.25</td>\n",
       "      <td>0.75</td>\n",
       "      <td>11.3</td>\n",
       "      <td>7</td>\n",
       "      <td>white</td>\n",
       "    </tr>\n",
       "    <tr>\n",
       "      <th>5749</th>\n",
       "      <td>9.3</td>\n",
       "      <td>0.43</td>\n",
       "      <td>0.44</td>\n",
       "      <td>1.9</td>\n",
       "      <td>0.085</td>\n",
       "      <td>9.0</td>\n",
       "      <td>22.0</td>\n",
       "      <td>0.99708</td>\n",
       "      <td>3.28</td>\n",
       "      <td>0.55</td>\n",
       "      <td>9.5</td>\n",
       "      <td>5</td>\n",
       "      <td>red</td>\n",
       "    </tr>\n",
       "  </tbody>\n",
       "</table>\n",
       "</div>"
      ],
      "text/plain": [
       "      fixed acidity  volatile acidity  citric acid  residual sugar  chlorides  \\\n",
       "5036            7.8              0.56         0.19             2.1      0.081   \n",
       "2124            7.7              0.39         0.28             4.9      0.035   \n",
       "2885            6.9              0.40         0.30            10.6      0.033   \n",
       "3636            6.5              0.26         0.39             1.4      0.020   \n",
       "5749            9.3              0.43         0.44             1.9      0.085   \n",
       "\n",
       "      free sulfur dioxide  total sulfur dioxide  density    pH  sulphates  \\\n",
       "5036                 15.0                 105.0  0.99620  3.33       0.54   \n",
       "2124                 36.0                 109.0  0.99180  3.19       0.58   \n",
       "2885                 24.0                  87.0  0.99265  3.15       0.45   \n",
       "3636                 12.0                  66.0  0.99089  3.25       0.75   \n",
       "5749                  9.0                  22.0  0.99708  3.28       0.55   \n",
       "\n",
       "      alcohol  quality   type  \n",
       "5036      9.5        5    red  \n",
       "2124     12.2        7  white  \n",
       "2885     12.8        6  white  \n",
       "3636     11.3        7  white  \n",
       "5749      9.5        5    red  "
      ]
     },
     "execution_count": 4,
     "metadata": {},
     "output_type": "execute_result"
    }
   ],
   "source": [
    "data = data_w.assign(type = 'white')\n",
    "\n",
    "data = data.append(data_r.assign(type = 'red'), ignore_index=True)\n",
    "data.sample(5)"
   ]
  },
  {
   "cell_type": "markdown",
   "metadata": {},
   "source": [
    "# Exercise 6.1\n",
    "\n",
    "Show the frecuency table of the quality by type of wine"
   ]
  },
  {
   "cell_type": "code",
   "execution_count": 5,
   "metadata": {
    "scrolled": true
   },
   "outputs": [
    {
     "data": {
      "text/html": [
       "<div>\n",
       "<style scoped>\n",
       "    .dataframe tbody tr th:only-of-type {\n",
       "        vertical-align: middle;\n",
       "    }\n",
       "\n",
       "    .dataframe tbody tr th {\n",
       "        vertical-align: top;\n",
       "    }\n",
       "\n",
       "    .dataframe thead th {\n",
       "        text-align: right;\n",
       "    }\n",
       "</style>\n",
       "<table border=\"1\" class=\"dataframe\">\n",
       "  <thead>\n",
       "    <tr style=\"text-align: right;\">\n",
       "      <th>type</th>\n",
       "      <th>red</th>\n",
       "      <th>white</th>\n",
       "    </tr>\n",
       "    <tr>\n",
       "      <th>quality</th>\n",
       "      <th></th>\n",
       "      <th></th>\n",
       "    </tr>\n",
       "  </thead>\n",
       "  <tbody>\n",
       "    <tr>\n",
       "      <th>3</th>\n",
       "      <td>10.0</td>\n",
       "      <td>20.0</td>\n",
       "    </tr>\n",
       "    <tr>\n",
       "      <th>4</th>\n",
       "      <td>53.0</td>\n",
       "      <td>163.0</td>\n",
       "    </tr>\n",
       "    <tr>\n",
       "      <th>5</th>\n",
       "      <td>681.0</td>\n",
       "      <td>1457.0</td>\n",
       "    </tr>\n",
       "    <tr>\n",
       "      <th>6</th>\n",
       "      <td>638.0</td>\n",
       "      <td>2198.0</td>\n",
       "    </tr>\n",
       "    <tr>\n",
       "      <th>7</th>\n",
       "      <td>199.0</td>\n",
       "      <td>880.0</td>\n",
       "    </tr>\n",
       "    <tr>\n",
       "      <th>8</th>\n",
       "      <td>18.0</td>\n",
       "      <td>175.0</td>\n",
       "    </tr>\n",
       "    <tr>\n",
       "      <th>9</th>\n",
       "      <td>NaN</td>\n",
       "      <td>5.0</td>\n",
       "    </tr>\n",
       "  </tbody>\n",
       "</table>\n",
       "</div>"
      ],
      "text/plain": [
       "type       red   white\n",
       "quality               \n",
       "3         10.0    20.0\n",
       "4         53.0   163.0\n",
       "5        681.0  1457.0\n",
       "6        638.0  2198.0\n",
       "7        199.0   880.0\n",
       "8         18.0   175.0\n",
       "9          NaN     5.0"
      ]
     },
     "execution_count": 5,
     "metadata": {},
     "output_type": "execute_result"
    }
   ],
   "source": [
    "data.pivot_table(values='fixed acidity', index='quality',columns='type', aggfunc='count')"
   ]
  },
  {
   "cell_type": "markdown",
   "metadata": {},
   "source": [
    "# SVM"
   ]
  },
  {
   "cell_type": "markdown",
   "metadata": {},
   "source": [
    "# Exercise 6.2\n",
    "\n",
    "* Standarized the features (not the quality)\n",
    "* Create a binary target for each type of wine\n",
    "* Create two Linear SVM's for the white and red wines, repectively.\n"
   ]
  },
  {
   "cell_type": "code",
   "execution_count": 6,
   "metadata": {
    "scrolled": true
   },
   "outputs": [],
   "source": [
    "#Create a binary target\n",
    "data['quality2'] = [1 if i > 6 else 0 for i in data['quality']]\n",
    "\n",
    "#Divide the df by type of wine\n",
    "data_red = data[data['type'] == 'red']\n",
    "data_white = data[data['type'] == 'white']"
   ]
  },
  {
   "cell_type": "code",
   "execution_count": 7,
   "metadata": {
    "scrolled": true
   },
   "outputs": [
    {
     "data": {
      "text/html": [
       "<div>\n",
       "<style scoped>\n",
       "    .dataframe tbody tr th:only-of-type {\n",
       "        vertical-align: middle;\n",
       "    }\n",
       "\n",
       "    .dataframe tbody tr th {\n",
       "        vertical-align: top;\n",
       "    }\n",
       "\n",
       "    .dataframe thead th {\n",
       "        text-align: right;\n",
       "    }\n",
       "</style>\n",
       "<table border=\"1\" class=\"dataframe\">\n",
       "  <thead>\n",
       "    <tr style=\"text-align: right;\">\n",
       "      <th></th>\n",
       "      <th>fixed acidity</th>\n",
       "      <th>volatile acidity</th>\n",
       "      <th>citric acid</th>\n",
       "      <th>residual sugar</th>\n",
       "      <th>chlorides</th>\n",
       "      <th>free sulfur dioxide</th>\n",
       "      <th>total sulfur dioxide</th>\n",
       "      <th>density</th>\n",
       "      <th>pH</th>\n",
       "      <th>sulphates</th>\n",
       "      <th>alcohol</th>\n",
       "      <th>quality</th>\n",
       "      <th>type</th>\n",
       "      <th>quality2</th>\n",
       "    </tr>\n",
       "  </thead>\n",
       "  <tbody>\n",
       "    <tr>\n",
       "      <th>5010</th>\n",
       "      <td>8.4</td>\n",
       "      <td>0.60</td>\n",
       "      <td>0.10</td>\n",
       "      <td>2.2</td>\n",
       "      <td>0.085</td>\n",
       "      <td>14.0</td>\n",
       "      <td>111.0</td>\n",
       "      <td>0.99640</td>\n",
       "      <td>3.15</td>\n",
       "      <td>0.66</td>\n",
       "      <td>9.8</td>\n",
       "      <td>5</td>\n",
       "      <td>red</td>\n",
       "      <td>0</td>\n",
       "    </tr>\n",
       "    <tr>\n",
       "      <th>6152</th>\n",
       "      <td>7.8</td>\n",
       "      <td>0.70</td>\n",
       "      <td>0.06</td>\n",
       "      <td>1.9</td>\n",
       "      <td>0.079</td>\n",
       "      <td>20.0</td>\n",
       "      <td>35.0</td>\n",
       "      <td>0.99628</td>\n",
       "      <td>3.40</td>\n",
       "      <td>0.69</td>\n",
       "      <td>10.9</td>\n",
       "      <td>5</td>\n",
       "      <td>red</td>\n",
       "      <td>0</td>\n",
       "    </tr>\n",
       "    <tr>\n",
       "      <th>5170</th>\n",
       "      <td>10.9</td>\n",
       "      <td>0.37</td>\n",
       "      <td>0.58</td>\n",
       "      <td>4.0</td>\n",
       "      <td>0.071</td>\n",
       "      <td>17.0</td>\n",
       "      <td>65.0</td>\n",
       "      <td>0.99935</td>\n",
       "      <td>3.22</td>\n",
       "      <td>0.78</td>\n",
       "      <td>10.1</td>\n",
       "      <td>5</td>\n",
       "      <td>red</td>\n",
       "      <td>0</td>\n",
       "    </tr>\n",
       "    <tr>\n",
       "      <th>6384</th>\n",
       "      <td>6.8</td>\n",
       "      <td>0.68</td>\n",
       "      <td>0.21</td>\n",
       "      <td>2.1</td>\n",
       "      <td>0.070</td>\n",
       "      <td>9.0</td>\n",
       "      <td>23.0</td>\n",
       "      <td>0.99546</td>\n",
       "      <td>3.38</td>\n",
       "      <td>0.60</td>\n",
       "      <td>10.3</td>\n",
       "      <td>5</td>\n",
       "      <td>red</td>\n",
       "      <td>0</td>\n",
       "    </tr>\n",
       "    <tr>\n",
       "      <th>6118</th>\n",
       "      <td>10.9</td>\n",
       "      <td>0.32</td>\n",
       "      <td>0.52</td>\n",
       "      <td>1.8</td>\n",
       "      <td>0.132</td>\n",
       "      <td>17.0</td>\n",
       "      <td>44.0</td>\n",
       "      <td>0.99734</td>\n",
       "      <td>3.28</td>\n",
       "      <td>0.77</td>\n",
       "      <td>11.5</td>\n",
       "      <td>6</td>\n",
       "      <td>red</td>\n",
       "      <td>0</td>\n",
       "    </tr>\n",
       "  </tbody>\n",
       "</table>\n",
       "</div>"
      ],
      "text/plain": [
       "      fixed acidity  volatile acidity  citric acid  residual sugar  chlorides  \\\n",
       "5010            8.4              0.60         0.10             2.2      0.085   \n",
       "6152            7.8              0.70         0.06             1.9      0.079   \n",
       "5170           10.9              0.37         0.58             4.0      0.071   \n",
       "6384            6.8              0.68         0.21             2.1      0.070   \n",
       "6118           10.9              0.32         0.52             1.8      0.132   \n",
       "\n",
       "      free sulfur dioxide  total sulfur dioxide  density    pH  sulphates  \\\n",
       "5010                 14.0                 111.0  0.99640  3.15       0.66   \n",
       "6152                 20.0                  35.0  0.99628  3.40       0.69   \n",
       "5170                 17.0                  65.0  0.99935  3.22       0.78   \n",
       "6384                  9.0                  23.0  0.99546  3.38       0.60   \n",
       "6118                 17.0                  44.0  0.99734  3.28       0.77   \n",
       "\n",
       "      alcohol  quality type  quality2  \n",
       "5010      9.8        5  red         0  \n",
       "6152     10.9        5  red         0  \n",
       "5170     10.1        5  red         0  \n",
       "6384     10.3        5  red         0  \n",
       "6118     11.5        6  red         0  "
      ]
     },
     "execution_count": 7,
     "metadata": {},
     "output_type": "execute_result"
    }
   ],
   "source": [
    "#Red wine df\n",
    "data_red.sample(5)"
   ]
  },
  {
   "cell_type": "code",
   "execution_count": 8,
   "metadata": {
    "scrolled": true
   },
   "outputs": [
    {
     "data": {
      "text/html": [
       "<div>\n",
       "<style scoped>\n",
       "    .dataframe tbody tr th:only-of-type {\n",
       "        vertical-align: middle;\n",
       "    }\n",
       "\n",
       "    .dataframe tbody tr th {\n",
       "        vertical-align: top;\n",
       "    }\n",
       "\n",
       "    .dataframe thead th {\n",
       "        text-align: right;\n",
       "    }\n",
       "</style>\n",
       "<table border=\"1\" class=\"dataframe\">\n",
       "  <thead>\n",
       "    <tr style=\"text-align: right;\">\n",
       "      <th></th>\n",
       "      <th>fixed acidity</th>\n",
       "      <th>volatile acidity</th>\n",
       "      <th>citric acid</th>\n",
       "      <th>residual sugar</th>\n",
       "      <th>chlorides</th>\n",
       "      <th>free sulfur dioxide</th>\n",
       "      <th>total sulfur dioxide</th>\n",
       "      <th>density</th>\n",
       "      <th>pH</th>\n",
       "      <th>sulphates</th>\n",
       "      <th>alcohol</th>\n",
       "      <th>quality</th>\n",
       "      <th>type</th>\n",
       "      <th>quality2</th>\n",
       "    </tr>\n",
       "  </thead>\n",
       "  <tbody>\n",
       "    <tr>\n",
       "      <th>3032</th>\n",
       "      <td>6.7</td>\n",
       "      <td>0.14</td>\n",
       "      <td>0.46</td>\n",
       "      <td>1.6</td>\n",
       "      <td>0.036</td>\n",
       "      <td>15.0</td>\n",
       "      <td>92.0</td>\n",
       "      <td>0.99264</td>\n",
       "      <td>3.37</td>\n",
       "      <td>0.49</td>\n",
       "      <td>10.9</td>\n",
       "      <td>5</td>\n",
       "      <td>white</td>\n",
       "      <td>0</td>\n",
       "    </tr>\n",
       "    <tr>\n",
       "      <th>737</th>\n",
       "      <td>6.9</td>\n",
       "      <td>0.38</td>\n",
       "      <td>0.25</td>\n",
       "      <td>9.8</td>\n",
       "      <td>0.040</td>\n",
       "      <td>28.0</td>\n",
       "      <td>191.0</td>\n",
       "      <td>0.99710</td>\n",
       "      <td>3.28</td>\n",
       "      <td>0.61</td>\n",
       "      <td>9.2</td>\n",
       "      <td>5</td>\n",
       "      <td>white</td>\n",
       "      <td>0</td>\n",
       "    </tr>\n",
       "    <tr>\n",
       "      <th>1107</th>\n",
       "      <td>7.2</td>\n",
       "      <td>0.37</td>\n",
       "      <td>0.15</td>\n",
       "      <td>2.0</td>\n",
       "      <td>0.029</td>\n",
       "      <td>27.0</td>\n",
       "      <td>87.0</td>\n",
       "      <td>0.99030</td>\n",
       "      <td>3.30</td>\n",
       "      <td>0.59</td>\n",
       "      <td>12.6</td>\n",
       "      <td>7</td>\n",
       "      <td>white</td>\n",
       "      <td>1</td>\n",
       "    </tr>\n",
       "    <tr>\n",
       "      <th>1754</th>\n",
       "      <td>6.4</td>\n",
       "      <td>0.16</td>\n",
       "      <td>0.28</td>\n",
       "      <td>2.2</td>\n",
       "      <td>0.042</td>\n",
       "      <td>33.0</td>\n",
       "      <td>93.0</td>\n",
       "      <td>0.99140</td>\n",
       "      <td>3.31</td>\n",
       "      <td>0.43</td>\n",
       "      <td>11.1</td>\n",
       "      <td>6</td>\n",
       "      <td>white</td>\n",
       "      <td>0</td>\n",
       "    </tr>\n",
       "    <tr>\n",
       "      <th>4513</th>\n",
       "      <td>6.8</td>\n",
       "      <td>0.40</td>\n",
       "      <td>0.29</td>\n",
       "      <td>2.8</td>\n",
       "      <td>0.044</td>\n",
       "      <td>27.0</td>\n",
       "      <td>97.0</td>\n",
       "      <td>0.99040</td>\n",
       "      <td>3.12</td>\n",
       "      <td>0.42</td>\n",
       "      <td>11.2</td>\n",
       "      <td>6</td>\n",
       "      <td>white</td>\n",
       "      <td>0</td>\n",
       "    </tr>\n",
       "  </tbody>\n",
       "</table>\n",
       "</div>"
      ],
      "text/plain": [
       "      fixed acidity  volatile acidity  citric acid  residual sugar  chlorides  \\\n",
       "3032            6.7              0.14         0.46             1.6      0.036   \n",
       "737             6.9              0.38         0.25             9.8      0.040   \n",
       "1107            7.2              0.37         0.15             2.0      0.029   \n",
       "1754            6.4              0.16         0.28             2.2      0.042   \n",
       "4513            6.8              0.40         0.29             2.8      0.044   \n",
       "\n",
       "      free sulfur dioxide  total sulfur dioxide  density    pH  sulphates  \\\n",
       "3032                 15.0                  92.0  0.99264  3.37       0.49   \n",
       "737                  28.0                 191.0  0.99710  3.28       0.61   \n",
       "1107                 27.0                  87.0  0.99030  3.30       0.59   \n",
       "1754                 33.0                  93.0  0.99140  3.31       0.43   \n",
       "4513                 27.0                  97.0  0.99040  3.12       0.42   \n",
       "\n",
       "      alcohol  quality   type  quality2  \n",
       "3032     10.9        5  white         0  \n",
       "737       9.2        5  white         0  \n",
       "1107     12.6        7  white         1  \n",
       "1754     11.1        6  white         0  \n",
       "4513     11.2        6  white         0  "
      ]
     },
     "execution_count": 8,
     "metadata": {},
     "output_type": "execute_result"
    }
   ],
   "source": [
    "#White wine df\n",
    "data_white.sample(5)"
   ]
  },
  {
   "cell_type": "markdown",
   "metadata": {},
   "source": [
    "### Linear SVM for Red Wine"
   ]
  },
  {
   "cell_type": "code",
   "execution_count": 9,
   "metadata": {
    "scrolled": true
   },
   "outputs": [],
   "source": [
    "from sklearn.preprocessing import StandardScaler\n",
    "from sklearn.model_selection import train_test_split\n",
    "from sklearn.svm import SVC\n",
    "from sklearn.metrics import accuracy_score, f1_score, confusion_matrix, classification_report\n",
    "from sklearn import metrics"
   ]
  },
  {
   "cell_type": "code",
   "execution_count": 10,
   "metadata": {
    "scrolled": true
   },
   "outputs": [],
   "source": [
    "#Create X and y\n",
    "X_red = data_red[['fixed acidity', 'volatile acidity', 'citric acid', 'residual sugar',\n",
    "       'chlorides', 'free sulfur dioxide', 'total sulfur dioxide', 'density',\n",
    "       'pH', 'sulphates', 'alcohol']].values\n",
    "\n",
    "y_red = data_red['quality2'].values\n",
    "\n",
    "#Standarized features\n",
    "scaler = StandardScaler()\n",
    "scaler.fit(X_red.astype(np.float))\n",
    "X_red = scaler.transform(X_red.astype(np.float))\n",
    "\n",
    "X_train_red, X_test_red, y_train_red, y_test_red = train_test_split(X_red, y_red, test_size=0.3, random_state=0)"
   ]
  },
  {
   "cell_type": "code",
   "execution_count": 11,
   "metadata": {
    "scrolled": true
   },
   "outputs": [
    {
     "name": "stdout",
     "output_type": "stream",
     "text": [
      "Accuracy of SVM classifier on test set: 0.8854\n",
      "-----------------------------------------------\n",
      "Confusion matrix\n",
      "[[410  20]\n",
      " [ 35  15]]\n"
     ]
    }
   ],
   "source": [
    "#SVM Model\n",
    "clf = SVC(kernel='linear')\n",
    "clf.fit(X_train_red, y_train_red)\n",
    "\n",
    "#Accuracy\n",
    "y_pred_red = clf.predict(X_test_red)\n",
    "print('Accuracy of SVM classifier on test set: {:.4f}'.format(accuracy_score(y_test_red, y_pred_red)))\n",
    "print('-----------------------------------------------')\n",
    "\n",
    "#Confusion matrix\n",
    "confusion_matrix1 = confusion_matrix(y_test_red, y_pred_red)\n",
    "print('Confusion matrix')\n",
    "print(confusion_matrix1)"
   ]
  },
  {
   "cell_type": "markdown",
   "metadata": {},
   "source": [
    "### Linear SVM for White Wine"
   ]
  },
  {
   "cell_type": "code",
   "execution_count": 12,
   "metadata": {
    "scrolled": true
   },
   "outputs": [],
   "source": [
    "#Create X and y\n",
    "X_white = data_white[['fixed acidity', 'volatile acidity', 'citric acid', 'residual sugar',\n",
    "       'chlorides', 'free sulfur dioxide', 'total sulfur dioxide', 'density',\n",
    "       'pH', 'sulphates', 'alcohol']].values\n",
    "y_white = data_white['quality2'].values\n",
    "\n",
    "#Standarized features white wine dataframe\n",
    "scaler_ = StandardScaler()\n",
    "scaler_.fit(X_white.astype(np.float))\n",
    "X_white = scaler_.transform(X_white.astype(np.float))\n",
    "\n",
    "X_train_white, X_test_white, y_train_white, y_test_white = train_test_split(X_white, y_white, test_size=0.3, random_state=0)"
   ]
  },
  {
   "cell_type": "code",
   "execution_count": 13,
   "metadata": {
    "scrolled": true
   },
   "outputs": [
    {
     "name": "stdout",
     "output_type": "stream",
     "text": [
      "Accuracy of SVM classifier on test set: 0.7871\n",
      "-----------------------------------------------\n",
      "Confusion matrix\n",
      "[[1157    0]\n",
      " [ 313    0]]\n"
     ]
    }
   ],
   "source": [
    "#SVM Model\n",
    "clf_ = SVC(kernel='linear')\n",
    "clf_.fit(X_train_white, y_train_white)\n",
    "\n",
    "#Accuracy\n",
    "y_pred_white = clf_.predict(X_test_white)\n",
    "print('Accuracy of SVM classifier on test set: {:.4f}'.format(accuracy_score(y_test_white, y_pred_white)))\n",
    "print('-----------------------------------------------')\n",
    "\n",
    "#Confusion matrix\n",
    "confusion_matrix_ = confusion_matrix(y_test_white, y_pred_white)\n",
    "print('Confusion matrix')\n",
    "print(confusion_matrix_)"
   ]
  },
  {
   "cell_type": "markdown",
   "metadata": {},
   "source": [
    "# Exercise 6.3\n",
    "\n",
    "Test the two SVM's using the different kernels (‘poly’, ‘rbf’, ‘sigmoid’)\n"
   ]
  },
  {
   "cell_type": "markdown",
   "metadata": {},
   "source": [
    "### SVM for Red Wine"
   ]
  },
  {
   "cell_type": "code",
   "execution_count": 14,
   "metadata": {},
   "outputs": [
    {
     "data": {
      "text/html": [
       "<div>\n",
       "<style scoped>\n",
       "    .dataframe tbody tr th:only-of-type {\n",
       "        vertical-align: middle;\n",
       "    }\n",
       "\n",
       "    .dataframe tbody tr th {\n",
       "        vertical-align: top;\n",
       "    }\n",
       "\n",
       "    .dataframe thead th {\n",
       "        text-align: right;\n",
       "    }\n",
       "</style>\n",
       "<table border=\"1\" class=\"dataframe\">\n",
       "  <thead>\n",
       "    <tr style=\"text-align: right;\">\n",
       "      <th></th>\n",
       "      <th>Accuraccy</th>\n",
       "    </tr>\n",
       "    <tr>\n",
       "      <th>Kernel</th>\n",
       "      <th></th>\n",
       "    </tr>\n",
       "  </thead>\n",
       "  <tbody>\n",
       "    <tr>\n",
       "      <th>poly</th>\n",
       "      <td>0.9000</td>\n",
       "    </tr>\n",
       "    <tr>\n",
       "      <th>rbf</th>\n",
       "      <td>0.9125</td>\n",
       "    </tr>\n",
       "    <tr>\n",
       "      <th>sigmoid</th>\n",
       "      <td>0.8625</td>\n",
       "    </tr>\n",
       "  </tbody>\n",
       "</table>\n",
       "</div>"
      ],
      "text/plain": [
       "         Accuraccy\n",
       "Kernel            \n",
       "poly        0.9000\n",
       "rbf         0.9125\n",
       "sigmoid     0.8625"
      ]
     },
     "execution_count": 14,
     "metadata": {},
     "output_type": "execute_result"
    }
   ],
   "source": [
    "kernels = ['poly','rbf','sigmoid']\n",
    "\n",
    "svm_red = []\n",
    "\n",
    "for i in kernels:\n",
    "    clf_red = SVC(kernel= i, gamma='auto')\n",
    "    clf_red.fit(X_train_red, y_train_red)\n",
    "    y_pred_red = clf_red.predict(X_test_red)\n",
    "    svm_red.append({'Kernel': i, 'Accuraccy': accuracy_score(y_test_red, y_pred_red)})\n",
    "\n",
    "df_svm_red = pd.DataFrame(svm_red)\n",
    "df_svm_red = df_svm_red.set_index('Kernel')\n",
    "df_svm_red"
   ]
  },
  {
   "cell_type": "markdown",
   "metadata": {},
   "source": [
    "### SVM for White Wine"
   ]
  },
  {
   "cell_type": "code",
   "execution_count": 15,
   "metadata": {},
   "outputs": [
    {
     "data": {
      "text/html": [
       "<div>\n",
       "<style scoped>\n",
       "    .dataframe tbody tr th:only-of-type {\n",
       "        vertical-align: middle;\n",
       "    }\n",
       "\n",
       "    .dataframe tbody tr th {\n",
       "        vertical-align: top;\n",
       "    }\n",
       "\n",
       "    .dataframe thead th {\n",
       "        text-align: right;\n",
       "    }\n",
       "</style>\n",
       "<table border=\"1\" class=\"dataframe\">\n",
       "  <thead>\n",
       "    <tr style=\"text-align: right;\">\n",
       "      <th></th>\n",
       "      <th>Accuraccy</th>\n",
       "    </tr>\n",
       "    <tr>\n",
       "      <th>Kernel</th>\n",
       "      <th></th>\n",
       "    </tr>\n",
       "  </thead>\n",
       "  <tbody>\n",
       "    <tr>\n",
       "      <th>poly</th>\n",
       "      <td>0.802041</td>\n",
       "    </tr>\n",
       "    <tr>\n",
       "      <th>rbf</th>\n",
       "      <td>0.817687</td>\n",
       "    </tr>\n",
       "    <tr>\n",
       "      <th>sigmoid</th>\n",
       "      <td>0.748980</td>\n",
       "    </tr>\n",
       "  </tbody>\n",
       "</table>\n",
       "</div>"
      ],
      "text/plain": [
       "         Accuraccy\n",
       "Kernel            \n",
       "poly      0.802041\n",
       "rbf       0.817687\n",
       "sigmoid   0.748980"
      ]
     },
     "execution_count": 15,
     "metadata": {},
     "output_type": "execute_result"
    }
   ],
   "source": [
    "svm_white = []\n",
    "\n",
    "for i in kernels:\n",
    "    clf_white = SVC(kernel=i, gamma='auto')\n",
    "    clf_white.fit(X_train_white, y_train_white)\n",
    "    y_pred_white = clf_white.predict(X_test_white)\n",
    "    svm_white.append({'Kernel': i, 'Accuraccy': accuracy_score(y_test_white, y_pred_white)})\n",
    "\n",
    "df_svm_white = pd.DataFrame(svm_white)\n",
    "df_svm_white = df_svm_white.set_index('Kernel')\n",
    "df_svm_white"
   ]
  },
  {
   "cell_type": "markdown",
   "metadata": {},
   "source": [
    "# Exercise 6.4\n",
    "Using the best SVM find the parameters that gives the best performance\n",
    "\n",
    "'C': [0.1, 1, 10, 100, 1000], 'gamma': [0.01, 0.001, 0.0001]"
   ]
  },
  {
   "cell_type": "markdown",
   "metadata": {},
   "source": [
    "### SVM for Red Wine"
   ]
  },
  {
   "cell_type": "markdown",
   "metadata": {},
   "source": [
    "##### Best SVM: when using `rbf` kernel"
   ]
  },
  {
   "cell_type": "code",
   "execution_count": 16,
   "metadata": {},
   "outputs": [
    {
     "data": {
      "text/html": [
       "<div>\n",
       "<style scoped>\n",
       "    .dataframe tbody tr th:only-of-type {\n",
       "        vertical-align: middle;\n",
       "    }\n",
       "\n",
       "    .dataframe tbody tr th {\n",
       "        vertical-align: top;\n",
       "    }\n",
       "\n",
       "    .dataframe thead th {\n",
       "        text-align: right;\n",
       "    }\n",
       "</style>\n",
       "<table border=\"1\" class=\"dataframe\">\n",
       "  <thead>\n",
       "    <tr style=\"text-align: right;\">\n",
       "      <th></th>\n",
       "      <th>Accuracy</th>\n",
       "      <th>C</th>\n",
       "      <th>gamma</th>\n",
       "    </tr>\n",
       "  </thead>\n",
       "  <tbody>\n",
       "    <tr>\n",
       "      <th>6</th>\n",
       "      <td>0.902083</td>\n",
       "      <td>10.0</td>\n",
       "      <td>0.0100</td>\n",
       "    </tr>\n",
       "    <tr>\n",
       "      <th>13</th>\n",
       "      <td>0.902083</td>\n",
       "      <td>1000.0</td>\n",
       "      <td>0.0010</td>\n",
       "    </tr>\n",
       "    <tr>\n",
       "      <th>14</th>\n",
       "      <td>0.902083</td>\n",
       "      <td>1000.0</td>\n",
       "      <td>0.0001</td>\n",
       "    </tr>\n",
       "    <tr>\n",
       "      <th>9</th>\n",
       "      <td>0.900000</td>\n",
       "      <td>100.0</td>\n",
       "      <td>0.0100</td>\n",
       "    </tr>\n",
       "    <tr>\n",
       "      <th>10</th>\n",
       "      <td>0.897917</td>\n",
       "      <td>100.0</td>\n",
       "      <td>0.0010</td>\n",
       "    </tr>\n",
       "    <tr>\n",
       "      <th>0</th>\n",
       "      <td>0.895833</td>\n",
       "      <td>0.1</td>\n",
       "      <td>0.0100</td>\n",
       "    </tr>\n",
       "    <tr>\n",
       "      <th>1</th>\n",
       "      <td>0.895833</td>\n",
       "      <td>0.1</td>\n",
       "      <td>0.0010</td>\n",
       "    </tr>\n",
       "    <tr>\n",
       "      <th>2</th>\n",
       "      <td>0.895833</td>\n",
       "      <td>0.1</td>\n",
       "      <td>0.0001</td>\n",
       "    </tr>\n",
       "    <tr>\n",
       "      <th>3</th>\n",
       "      <td>0.895833</td>\n",
       "      <td>1.0</td>\n",
       "      <td>0.0100</td>\n",
       "    </tr>\n",
       "    <tr>\n",
       "      <th>4</th>\n",
       "      <td>0.895833</td>\n",
       "      <td>1.0</td>\n",
       "      <td>0.0010</td>\n",
       "    </tr>\n",
       "    <tr>\n",
       "      <th>5</th>\n",
       "      <td>0.895833</td>\n",
       "      <td>1.0</td>\n",
       "      <td>0.0001</td>\n",
       "    </tr>\n",
       "    <tr>\n",
       "      <th>7</th>\n",
       "      <td>0.895833</td>\n",
       "      <td>10.0</td>\n",
       "      <td>0.0010</td>\n",
       "    </tr>\n",
       "    <tr>\n",
       "      <th>8</th>\n",
       "      <td>0.895833</td>\n",
       "      <td>10.0</td>\n",
       "      <td>0.0001</td>\n",
       "    </tr>\n",
       "    <tr>\n",
       "      <th>11</th>\n",
       "      <td>0.895833</td>\n",
       "      <td>100.0</td>\n",
       "      <td>0.0001</td>\n",
       "    </tr>\n",
       "    <tr>\n",
       "      <th>12</th>\n",
       "      <td>0.895833</td>\n",
       "      <td>1000.0</td>\n",
       "      <td>0.0100</td>\n",
       "    </tr>\n",
       "  </tbody>\n",
       "</table>\n",
       "</div>"
      ],
      "text/plain": [
       "    Accuracy       C   gamma\n",
       "6   0.902083    10.0  0.0100\n",
       "13  0.902083  1000.0  0.0010\n",
       "14  0.902083  1000.0  0.0001\n",
       "9   0.900000   100.0  0.0100\n",
       "10  0.897917   100.0  0.0010\n",
       "0   0.895833     0.1  0.0100\n",
       "1   0.895833     0.1  0.0010\n",
       "2   0.895833     0.1  0.0001\n",
       "3   0.895833     1.0  0.0100\n",
       "4   0.895833     1.0  0.0010\n",
       "5   0.895833     1.0  0.0001\n",
       "7   0.895833    10.0  0.0010\n",
       "8   0.895833    10.0  0.0001\n",
       "11  0.895833   100.0  0.0001\n",
       "12  0.895833  1000.0  0.0100"
      ]
     },
     "execution_count": 16,
     "metadata": {},
     "output_type": "execute_result"
    }
   ],
   "source": [
    "C = [0.1, 1, 10, 100, 1000]\n",
    "gamma = [0.01, 0.001, 0.0001]\n",
    "rvf_red = []\n",
    "\n",
    "for i in C:\n",
    "    for j in gamma:\n",
    "        clf_red = SVC(C=i, kernel='rbf', gamma=j)\n",
    "        clf_red.fit(X_train_red, y_train_red)\n",
    "        y_pred_red = clf_red.predict(X_test_red)\n",
    "        rvf_red.append({'C': i, 'gamma': j,'Accuracy': accuracy_score(y_test_red, y_pred_red)})\n",
    "\n",
    "df_rvf_red = pd.DataFrame(rvf_red)\n",
    "df_rvf_red = df_rvf_red.sort_values(['Accuracy'], ascending=False)\n",
    "df_rvf_red"
   ]
  },
  {
   "cell_type": "markdown",
   "metadata": {},
   "source": [
    "* The parameters that gives the best performance for Red Wine are:\n",
    "\n",
    "|     C     |   gamma   | Accuracy |\n",
    "| :------- | :------- | :------ |\n",
    "|    10.0   |    0.01   | 0.902083 |\n",
    "|   1000.0  |   0.001   | 0.902083 |\n",
    "|   1000.0  |   0.0001  | 0.902083 |\n"
   ]
  },
  {
   "cell_type": "markdown",
   "metadata": {},
   "source": [
    "### SVM for White Wine"
   ]
  },
  {
   "cell_type": "markdown",
   "metadata": {},
   "source": [
    "##### Best SVM: when using `rbf` kernel"
   ]
  },
  {
   "cell_type": "code",
   "execution_count": 17,
   "metadata": {},
   "outputs": [
    {
     "data": {
      "text/html": [
       "<div>\n",
       "<style scoped>\n",
       "    .dataframe tbody tr th:only-of-type {\n",
       "        vertical-align: middle;\n",
       "    }\n",
       "\n",
       "    .dataframe tbody tr th {\n",
       "        vertical-align: top;\n",
       "    }\n",
       "\n",
       "    .dataframe thead th {\n",
       "        text-align: right;\n",
       "    }\n",
       "</style>\n",
       "<table border=\"1\" class=\"dataframe\">\n",
       "  <thead>\n",
       "    <tr style=\"text-align: right;\">\n",
       "      <th></th>\n",
       "      <th>Accuracy</th>\n",
       "      <th>C</th>\n",
       "      <th>gamma</th>\n",
       "    </tr>\n",
       "  </thead>\n",
       "  <tbody>\n",
       "    <tr>\n",
       "      <th>12</th>\n",
       "      <td>0.821088</td>\n",
       "      <td>1000.0</td>\n",
       "      <td>0.0100</td>\n",
       "    </tr>\n",
       "    <tr>\n",
       "      <th>9</th>\n",
       "      <td>0.818367</td>\n",
       "      <td>100.0</td>\n",
       "      <td>0.0100</td>\n",
       "    </tr>\n",
       "    <tr>\n",
       "      <th>6</th>\n",
       "      <td>0.813605</td>\n",
       "      <td>10.0</td>\n",
       "      <td>0.0100</td>\n",
       "    </tr>\n",
       "    <tr>\n",
       "      <th>13</th>\n",
       "      <td>0.810204</td>\n",
       "      <td>1000.0</td>\n",
       "      <td>0.0010</td>\n",
       "    </tr>\n",
       "    <tr>\n",
       "      <th>3</th>\n",
       "      <td>0.797279</td>\n",
       "      <td>1.0</td>\n",
       "      <td>0.0100</td>\n",
       "    </tr>\n",
       "    <tr>\n",
       "      <th>10</th>\n",
       "      <td>0.797279</td>\n",
       "      <td>100.0</td>\n",
       "      <td>0.0010</td>\n",
       "    </tr>\n",
       "    <tr>\n",
       "      <th>0</th>\n",
       "      <td>0.787075</td>\n",
       "      <td>0.1</td>\n",
       "      <td>0.0100</td>\n",
       "    </tr>\n",
       "    <tr>\n",
       "      <th>1</th>\n",
       "      <td>0.787075</td>\n",
       "      <td>0.1</td>\n",
       "      <td>0.0010</td>\n",
       "    </tr>\n",
       "    <tr>\n",
       "      <th>2</th>\n",
       "      <td>0.787075</td>\n",
       "      <td>0.1</td>\n",
       "      <td>0.0001</td>\n",
       "    </tr>\n",
       "    <tr>\n",
       "      <th>4</th>\n",
       "      <td>0.787075</td>\n",
       "      <td>1.0</td>\n",
       "      <td>0.0010</td>\n",
       "    </tr>\n",
       "    <tr>\n",
       "      <th>5</th>\n",
       "      <td>0.787075</td>\n",
       "      <td>1.0</td>\n",
       "      <td>0.0001</td>\n",
       "    </tr>\n",
       "    <tr>\n",
       "      <th>7</th>\n",
       "      <td>0.787075</td>\n",
       "      <td>10.0</td>\n",
       "      <td>0.0010</td>\n",
       "    </tr>\n",
       "    <tr>\n",
       "      <th>8</th>\n",
       "      <td>0.787075</td>\n",
       "      <td>10.0</td>\n",
       "      <td>0.0001</td>\n",
       "    </tr>\n",
       "    <tr>\n",
       "      <th>11</th>\n",
       "      <td>0.787075</td>\n",
       "      <td>100.0</td>\n",
       "      <td>0.0001</td>\n",
       "    </tr>\n",
       "    <tr>\n",
       "      <th>14</th>\n",
       "      <td>0.787075</td>\n",
       "      <td>1000.0</td>\n",
       "      <td>0.0001</td>\n",
       "    </tr>\n",
       "  </tbody>\n",
       "</table>\n",
       "</div>"
      ],
      "text/plain": [
       "    Accuracy       C   gamma\n",
       "12  0.821088  1000.0  0.0100\n",
       "9   0.818367   100.0  0.0100\n",
       "6   0.813605    10.0  0.0100\n",
       "13  0.810204  1000.0  0.0010\n",
       "3   0.797279     1.0  0.0100\n",
       "10  0.797279   100.0  0.0010\n",
       "0   0.787075     0.1  0.0100\n",
       "1   0.787075     0.1  0.0010\n",
       "2   0.787075     0.1  0.0001\n",
       "4   0.787075     1.0  0.0010\n",
       "5   0.787075     1.0  0.0001\n",
       "7   0.787075    10.0  0.0010\n",
       "8   0.787075    10.0  0.0001\n",
       "11  0.787075   100.0  0.0001\n",
       "14  0.787075  1000.0  0.0001"
      ]
     },
     "execution_count": 17,
     "metadata": {},
     "output_type": "execute_result"
    }
   ],
   "source": [
    "rvf_white = []\n",
    "\n",
    "\n",
    "for i in C:    \n",
    "    for j in gamma:\n",
    "        clf_white = SVC(C=i, kernel='rbf', gamma=j)\n",
    "        clf_white.fit(X_train_white, y_train_white)\n",
    "        y_pred_white = clf_white.predict(X_test_white)\n",
    "        #print('-----------------------------------------------')\n",
    "        #print('Using parameters C: ' + str(i) + \" and gamma: \" + str(j))\n",
    "        #print('Accuracy: {:.4f}'.format(accuracy_score(y_test_white, y_pred_white)))\n",
    "        rvf_white.append({'C': i, 'gamma': j,'Accuracy': accuracy_score(y_test_white, y_pred_white)})\n",
    "\n",
    "df_rvf_white = pd.DataFrame(rvf_white)\n",
    "df_rvf_white = df_rvf_white.sort_values(['Accuracy'], ascending=False)\n",
    "df_rvf_white"
   ]
  },
  {
   "cell_type": "markdown",
   "metadata": {},
   "source": [
    "* The parameters that gives the best performance for White Wine are:\n",
    "\n",
    "|     C     |   gamma   | Accuracy |\n",
    "| :------- | :------- | :------ |\n",
    "|    1000.0   |    0.01   | 0.821088 |"
   ]
  },
  {
   "cell_type": "markdown",
   "metadata": {},
   "source": [
    "# Exercise 6.5\n",
    "\n",
    "Compare the results with other methods"
   ]
  },
  {
   "cell_type": "markdown",
   "metadata": {},
   "source": [
    "### Logit for Red Wine"
   ]
  },
  {
   "cell_type": "code",
   "execution_count": 18,
   "metadata": {},
   "outputs": [
    {
     "name": "stdout",
     "output_type": "stream",
     "text": [
      "Accuracy of logistic regression classifier on test set: 0.8979\n"
     ]
    }
   ],
   "source": [
    "from sklearn.linear_model import LogisticRegression\n",
    "\n",
    "logreg = LogisticRegression(solver='liblinear')\n",
    "logreg.fit(X_train_red, y_train_red)\n",
    "y_pred_log_red = logreg.predict(X_test_red)\n",
    "print('Accuracy of logistic regression classifier on test set: {:.4f}'.format(accuracy_score(y_test_red, y_pred_log_red)))"
   ]
  },
  {
   "cell_type": "markdown",
   "metadata": {},
   "source": [
    "* For Red Wine, SVM model is better than Logit model in terms of accuracy:\n",
    "\n",
    "|     Method  | Accuracy |\n",
    "| :------- | :------- |\n",
    "|    SVM   |    0.9020   |\n",
    "|    Logit   |    0.8979   |"
   ]
  },
  {
   "cell_type": "markdown",
   "metadata": {},
   "source": [
    "### Logit for White Wine"
   ]
  },
  {
   "cell_type": "code",
   "execution_count": 19,
   "metadata": {},
   "outputs": [
    {
     "name": "stdout",
     "output_type": "stream",
     "text": [
      "Accuracy of logistic regression classifier on test set: 0.7932\n"
     ]
    }
   ],
   "source": [
    "logreg = LogisticRegression(solver='liblinear')\n",
    "logreg.fit(X_train_white, y_train_white)\n",
    "y_pred_log_white = logreg.predict(X_test_white)\n",
    "print('Accuracy of logistic regression classifier on test set: {:.4f}'.format(accuracy_score(y_test_white, y_pred_log_white)))"
   ]
  },
  {
   "cell_type": "markdown",
   "metadata": {},
   "source": [
    "* For White Wine, SVM model is better than Logit model in terms of accuracy:\n",
    "\n",
    "|     Method  | Accuracy |\n",
    "| :------- | :------- |\n",
    "|    SVM   |    0.8210   |\n",
    "|    Logit   |    0.7932   |"
   ]
  },
  {
   "cell_type": "markdown",
   "metadata": {},
   "source": [
    "# Regularization"
   ]
  },
  {
   "cell_type": "markdown",
   "metadata": {},
   "source": [
    "# Exercise 6.6\n",
    "\n",
    "\n",
    "* Train a linear regression to predict wine quality (Continous)\n",
    "\n",
    "* Analyze the coefficients\n",
    "\n",
    "* Evaluate the RMSE"
   ]
  },
  {
   "cell_type": "markdown",
   "metadata": {},
   "source": [
    "### Linear Regression for Red Wine"
   ]
  },
  {
   "cell_type": "code",
   "execution_count": 20,
   "metadata": {},
   "outputs": [
    {
     "data": {
      "text/plain": [
       "count    1599.000000\n",
       "mean        5.636023\n",
       "std         0.807569\n",
       "min         3.000000\n",
       "25%         5.000000\n",
       "50%         6.000000\n",
       "75%         6.000000\n",
       "max         8.000000\n",
       "Name: quality, dtype: float64"
      ]
     },
     "execution_count": 20,
     "metadata": {},
     "output_type": "execute_result"
    }
   ],
   "source": [
    "# examine the response variable\n",
    "data_red['quality'].describe()"
   ]
  },
  {
   "cell_type": "code",
   "execution_count": 21,
   "metadata": {},
   "outputs": [
    {
     "name": "stdout",
     "output_type": "stream",
     "text": [
      "[ 2.02362546e-02 -1.21385635e+00 -9.84560496e-02  2.21024824e-02\n",
      " -1.89761853e+00  1.99433159e-03 -3.00386885e-03 -1.67249074e+01\n",
      " -3.97705407e-01  8.54179474e-01  2.67506351e-01]\n"
     ]
    }
   ],
   "source": [
    "#Create X and y\n",
    "X_red_lin = data_red[['fixed acidity', 'volatile acidity', 'citric acid', 'residual sugar',\n",
    "       'chlorides', 'free sulfur dioxide', 'total sulfur dioxide', 'density',\n",
    "       'pH', 'sulphates', 'alcohol']].values\n",
    "\n",
    "y_red_lin = data_red['quality'].values\n",
    "X_train_red_lin, X_test_red_lin, y_train_red_lin, y_test_red_lin = train_test_split(X_red_lin, y_red_lin, test_size=0.3, random_state=0)\n",
    "\n",
    "# build a linear regression model\n",
    "from sklearn.linear_model import LinearRegression\n",
    "linreg_red = LinearRegression()\n",
    "linreg_red.fit(X_train_red_lin, y_train_red_lin)\n",
    "\n",
    "# analyze the coefficients\n",
    "print(linreg_red.coef_)"
   ]
  },
  {
   "cell_type": "markdown",
   "metadata": {},
   "source": [
    "*  For every 1-unit increase in $\\beta_1, \\beta_4, \\beta_6, \\beta_{10}, \\beta_{11}$ the outcome variable will increase by the beta coefficient value.\n",
    "\n",
    "*  For every 1-unit increase in $\\beta_2, \\beta_3, \\beta_5, \\beta_7, \\beta_8, \\beta_9$ the outcome variable will decrease by the beta coefficient value. "
   ]
  },
  {
   "cell_type": "code",
   "execution_count": 22,
   "metadata": {},
   "outputs": [
    {
     "name": "stdout",
     "output_type": "stream",
     "text": [
      "0.6330721652193952\n"
     ]
    }
   ],
   "source": [
    "# make predictions\n",
    "y_pred_red_lin = linreg_red.predict(X_test_red_lin)\n",
    "\n",
    "# calculate RMSE\n",
    "print(np.sqrt(metrics.mean_squared_error(y_test_red_lin, y_pred_red_lin)))"
   ]
  },
  {
   "cell_type": "markdown",
   "metadata": {},
   "source": [
    "### Linear Regression for White Wine"
   ]
  },
  {
   "cell_type": "code",
   "execution_count": 23,
   "metadata": {},
   "outputs": [
    {
     "data": {
      "text/plain": [
       "count    4898.000000\n",
       "mean        5.877909\n",
       "std         0.885639\n",
       "min         3.000000\n",
       "25%         5.000000\n",
       "50%         6.000000\n",
       "75%         6.000000\n",
       "max         9.000000\n",
       "Name: quality, dtype: float64"
      ]
     },
     "execution_count": 23,
     "metadata": {},
     "output_type": "execute_result"
    }
   ],
   "source": [
    "# examine the response variable\n",
    "data_white['quality'].describe()"
   ]
  },
  {
   "cell_type": "code",
   "execution_count": 24,
   "metadata": {},
   "outputs": [
    {
     "name": "stdout",
     "output_type": "stream",
     "text": [
      "[ 1.15989956e-01 -1.80466188e+00 -1.50084077e-02  9.67717990e-02\n",
      " -4.22336380e-01  5.11799045e-03 -2.40509546e-04 -2.01070812e+02\n",
      "  8.69262672e-01  6.58085048e-01  1.28438281e-01]\n"
     ]
    }
   ],
   "source": [
    "#Create X and y\n",
    "X_white_lin = data_white[['fixed acidity', 'volatile acidity', 'citric acid', 'residual sugar',\n",
    "       'chlorides', 'free sulfur dioxide', 'total sulfur dioxide', 'density',\n",
    "       'pH', 'sulphates', 'alcohol']].values\n",
    "\n",
    "y_white_lin = data_white['quality'].values\n",
    "X_train_white_lin, X_test_white_lin, y_train_white_lin, y_test_white_lin = train_test_split(X_white_lin, y_white_lin, test_size=0.3, random_state=0)\n",
    "\n",
    "# build a linear regression model\n",
    "linreg_white = LinearRegression()\n",
    "linreg_white.fit(X_train_white_lin, y_train_white_lin)\n",
    "\n",
    "# analyze the coefficients\n",
    "print(linreg_white.coef_)"
   ]
  },
  {
   "cell_type": "markdown",
   "metadata": {},
   "source": [
    "*  For every 1-unit increase in $\\beta_1, \\beta_4, \\beta_6, \\beta_9, \\beta_{10}, \\beta_{11}$ the outcome variable will increase by the beta coefficient value.\n",
    "\n",
    "*  For every 1-unit increase in $\\beta_2, \\beta_3, \\beta_5, \\beta_7, \\beta_8$ the outcome variable will decrease by the beta coefficient value. "
   ]
  },
  {
   "cell_type": "code",
   "execution_count": 25,
   "metadata": {},
   "outputs": [
    {
     "name": "stdout",
     "output_type": "stream",
     "text": [
      "0.7797679548192903\n"
     ]
    }
   ],
   "source": [
    "# make predictions\n",
    "y_pred_white_lin = linreg_white.predict(X_test_white_lin)\n",
    "\n",
    "# calculate RMSE\n",
    "print(np.sqrt(metrics.mean_squared_error(y_test_white_lin, y_pred_white_lin)))"
   ]
  },
  {
   "cell_type": "markdown",
   "metadata": {},
   "source": [
    "# Exercise 6.7\n",
    "\n",
    "* Estimate a ridge regression with alpha equals 0.1 and 1.\n",
    "* Compare the coefficients with the linear regression\n",
    "* Evaluate the RMSE"
   ]
  },
  {
   "cell_type": "markdown",
   "metadata": {},
   "source": [
    "### Ridge Regression for Red Wine"
   ]
  },
  {
   "cell_type": "code",
   "execution_count": 26,
   "metadata": {},
   "outputs": [
    {
     "name": "stdout",
     "output_type": "stream",
     "text": [
      "-----------------------------\n",
      "Coefficients for alpha 0.1: \n",
      " \n",
      " [ 2.68276389e-02 -1.08428984e+00  5.65341014e-02  2.36543153e-02\n",
      " -1.76994118e+00  1.12334507e-03 -2.71388369e-03 -3.00009155e+01\n",
      " -2.54181268e-01  7.95554880e-01  2.33458671e-01]\n",
      "\n",
      " RMSE: 0.6344194631893589\n",
      "-----------------------------\n",
      "Coefficients for alpha 1: \n",
      " \n",
      " [ 1.83712556e-02 -6.75208907e-01  2.49195784e-01  1.00770556e-02\n",
      " -1.01625393e+00 -8.36569442e-04 -1.63673406e-03 -2.68060154e+01\n",
      " -1.00168476e-01  4.58489960e-01  1.41011129e-01]\n",
      "\n",
      " RMSE: 0.6569663486954752\n"
     ]
    }
   ],
   "source": [
    "from sklearn.linear_model import Ridge\n",
    "\n",
    "alpha_r = [0.1, 1]\n",
    "l=[]\n",
    "\n",
    "for i in alpha_r:\n",
    "    ridgereg_red = Ridge(alpha=i, normalize=True)\n",
    "    ridgereg_red.fit(X_train_red_lin, y_train_red_lin)\n",
    "    print('-----------------------------')\n",
    "    print('Coefficients for alpha {}: \\n \\n {}'.format(i, ridgereg_red.coef_))\n",
    "    y_pred_red_ridge = ridgereg_red.predict(X_test_red_lin)  \n",
    "    print('\\n RMSE: {}'.format(np.sqrt(metrics.mean_squared_error(y_test_red_lin, y_pred_red_ridge)))) "
   ]
  },
  {
   "cell_type": "markdown",
   "metadata": {},
   "source": [
    "- Compared to Linear regression, Ridge regression **shrinks coefficients toward zero, but they rarely reach zero.**\n",
    "- Best RSME found when using alpha: 0.1"
   ]
  },
  {
   "cell_type": "markdown",
   "metadata": {},
   "source": [
    "### Ridge Regression for White Wine"
   ]
  },
  {
   "cell_type": "code",
   "execution_count": 27,
   "metadata": {},
   "outputs": [
    {
     "name": "stdout",
     "output_type": "stream",
     "text": [
      "-----------------------------\n",
      "Coefficients for alpha 0.1: \n",
      " \n",
      " [-8.48885792e-03 -1.63467861e+00  9.50634401e-03  3.42636009e-02\n",
      " -1.75610555e+00  5.50671129e-03 -8.39582620e-04 -5.13078081e+01\n",
      "  3.09478498e-01  4.17468570e-01  2.52495787e-01]\n",
      "\n",
      " RMSE: 0.7797233024278934\n",
      "-----------------------------\n",
      "Coefficients for alpha 1: \n",
      " \n",
      " [-2.72539154e-02 -8.57988875e-01  5.04142556e-02  6.03593151e-03\n",
      " -2.45762035e+00  2.73257813e-03 -7.31960665e-04 -2.58883533e+01\n",
      "  1.61366105e-01  2.21480222e-01  1.28845959e-01]\n",
      "\n",
      " RMSE: 0.812034744833556\n"
     ]
    }
   ],
   "source": [
    "for i in alpha_r:\n",
    "    ridgereg_white = Ridge(alpha=i, normalize=True)\n",
    "    ridgereg_white.fit(X_train_white_lin, y_train_white_lin)\n",
    "    print('-----------------------------')\n",
    "    print('Coefficients for alpha {}: \\n \\n {}'.format(i, ridgereg_white.coef_))\n",
    "    y_pred_white_ridge = ridgereg_white.predict(X_test_white_lin)  \n",
    "    print('\\n RMSE: {}'.format(np.sqrt(metrics.mean_squared_error(y_test_white_lin, y_pred_white_ridge))))"
   ]
  },
  {
   "cell_type": "markdown",
   "metadata": {},
   "source": [
    "- Compared to Linear regression, Ridge regression **shrinks coefficients toward zero, but they rarely reach zero.**\n",
    "- Best RSME found when using alpha: 0.1"
   ]
  },
  {
   "cell_type": "markdown",
   "metadata": {},
   "source": [
    "# Exercise 6.8\n",
    "\n",
    "* Estimate a lasso regression with alpha equals 0.01, 0.1 and 1.\n",
    "* Compare the coefficients with the linear regression\n",
    "* Evaluate the RMSE"
   ]
  },
  {
   "cell_type": "markdown",
   "metadata": {},
   "source": [
    "### Lasso Regression for Red Wine"
   ]
  },
  {
   "cell_type": "code",
   "execution_count": 28,
   "metadata": {
    "scrolled": true
   },
   "outputs": [
    {
     "name": "stdout",
     "output_type": "stream",
     "text": [
      "-----------------------------\n",
      "Coefficients for alpha 0.01: \n",
      " \n",
      " [ 0.         -0.03242701  0.          0.         -0.         -0.\n",
      " -0.         -0.         -0.          0.          0.0421808 ]\n",
      "\n",
      " RMSE: 0.7463573531910375\n",
      "-----------------------------\n",
      "Coefficients for alpha 0.1: \n",
      " \n",
      " [ 0. -0.  0.  0. -0. -0. -0. -0. -0.  0.  0.]\n",
      "\n",
      " RMSE: 0.7698374031730867\n",
      "-----------------------------\n",
      "Coefficients for alpha 1: \n",
      " \n",
      " [ 0. -0.  0.  0. -0. -0. -0. -0. -0.  0.  0.]\n",
      "\n",
      " RMSE: 0.7698374031730867\n"
     ]
    }
   ],
   "source": [
    "from sklearn.linear_model import Lasso\n",
    "\n",
    "alpha_l = [0.01, 0.1, 1]\n",
    "\n",
    "for i in alpha_l:\n",
    "    lassoreg_red = Lasso(alpha=i, normalize=True)\n",
    "    lassoreg_red.fit(X_train_red_lin, y_train_red_lin)\n",
    "    print('-----------------------------')\n",
    "    print('Coefficients for alpha {}: \\n \\n {}'.format(i, lassoreg_red.coef_))\n",
    "    y_pred_red_lasso = lassoreg_red.predict(X_test_red_lin)\n",
    "    print('\\n RMSE: {}'.format(np.sqrt(metrics.mean_squared_error(y_test_red_lin, y_pred_red_lasso))))"
   ]
  },
  {
   "cell_type": "markdown",
   "metadata": {},
   "source": [
    "- Compared to Linear regresion, Lasso regression **shrinks coefficients all the way to zero, thus removing them from the model**\n",
    "- Best RSME found when using alpha: 0.1"
   ]
  },
  {
   "cell_type": "markdown",
   "metadata": {},
   "source": [
    "### Lasso Regression for White Wine"
   ]
  },
  {
   "cell_type": "code",
   "execution_count": 29,
   "metadata": {},
   "outputs": [
    {
     "name": "stdout",
     "output_type": "stream",
     "text": [
      "-----------------------------\n",
      "Coefficients for alpha 0.01: \n",
      " \n",
      " [-0. -0. -0. -0. -0.  0. -0. -0.  0.  0.  0.]\n",
      "\n",
      " RMSE: 0.9016157829038678\n",
      "-----------------------------\n",
      "Coefficients for alpha 0.1: \n",
      " \n",
      " [-0. -0. -0. -0. -0.  0. -0. -0.  0.  0.  0.]\n",
      "\n",
      " RMSE: 0.9016157829038678\n",
      "-----------------------------\n",
      "Coefficients for alpha 1: \n",
      " \n",
      " [-0. -0. -0. -0. -0.  0. -0. -0.  0.  0.  0.]\n",
      "\n",
      " RMSE: 0.9016157829038678\n"
     ]
    }
   ],
   "source": [
    "for i in alpha_l:\n",
    "    lassoreg_white = Lasso(alpha=i, normalize=True)\n",
    "    lassoreg_white.fit(X_train_white_lin, y_train_white_lin)\n",
    "    print('-----------------------------')\n",
    "    print('Coefficients for alpha {}: \\n \\n {}'.format(i, lassoreg_white.coef_))\n",
    "    y_pred_white_lasso = lassoreg_white.predict(X_test_white_lin)\n",
    "    print('\\n RMSE: {}'.format(np.sqrt(metrics.mean_squared_error(y_test_white_lin, y_pred_white_lasso))))"
   ]
  },
  {
   "cell_type": "markdown",
   "metadata": {},
   "source": [
    "- Compared to Linear regresion, Lasso regression **shrinks coefficients all the way to zero, thus removing them from the model**\n",
    "- Same RSME when using alpha: 0.01, 0.1, 1"
   ]
  },
  {
   "cell_type": "markdown",
   "metadata": {},
   "source": [
    "# Exercise 6.9\n",
    "\n",
    "* Create a binary target\n",
    "\n",
    "* Train a logistic regression to predict wine quality (binary)\n",
    "\n",
    "* Analyze the coefficients\n",
    "\n",
    "* Evaluate the f1score"
   ]
  },
  {
   "cell_type": "markdown",
   "metadata": {},
   "source": [
    "### Logistic Regression for Red Wine"
   ]
  },
  {
   "cell_type": "code",
   "execution_count": 30,
   "metadata": {
    "scrolled": true
   },
   "outputs": [
    {
     "name": "stdout",
     "output_type": "stream",
     "text": [
      "Coefficients: \n",
      " \n",
      " [[-0.07774469 -3.32368312  0.37914938  0.09061365 -1.28169342  0.00812384\n",
      "  -0.01440026 -1.35202529 -2.16117238  1.79127935  0.86386463]]\n",
      "\n",
      " F1 Score: 0.4304\n"
     ]
    }
   ],
   "source": [
    "#Create X and y\n",
    "X_red_log = data_red[['fixed acidity', 'volatile acidity', 'citric acid', 'residual sugar',\n",
    "       'chlorides', 'free sulfur dioxide', 'total sulfur dioxide', 'density',\n",
    "       'pH', 'sulphates', 'alcohol']].values\n",
    "\n",
    "y_red_log = data_red['quality2'].values\n",
    "X_train_red_log, X_test_red_log, y_train_red_log, y_test_red_log = train_test_split(X_red_log, y_red_log, test_size=0.3, random_state=0)\n",
    "\n",
    "#train a logistic regression\n",
    "logreg = LogisticRegression(solver='liblinear')\n",
    "logreg.fit(X_train_red_log, y_train_red_log)\n",
    "print('Coefficients: \\n \\n {}'.format(logreg.coef_))\n",
    "y_pred_log_red = logreg.predict(X_test_red_log)\n",
    "print('\\n F1 Score: {:.4f}'.format(f1_score(y_test_red_log, y_pred_log_red)))"
   ]
  },
  {
   "cell_type": "markdown",
   "metadata": {},
   "source": [
    "### Logistic Regression for White Wine"
   ]
  },
  {
   "cell_type": "code",
   "execution_count": 31,
   "metadata": {},
   "outputs": [
    {
     "name": "stdout",
     "output_type": "stream",
     "text": [
      "Coefficients: \n",
      " \n",
      " [[-1.65057680e-01 -3.40423726e+00 -6.12138324e-01  3.87768967e-02\n",
      "  -1.20499079e+00  1.32155547e-02 -3.67968096e-03 -3.78662284e+00\n",
      "  -3.40534311e-01  9.21998559e-01  8.32448223e-01]]\n",
      "\n",
      " F1 Score: 0.3052\n"
     ]
    }
   ],
   "source": [
    "#Create X and y\n",
    "X_white_log = data_white[['fixed acidity', 'volatile acidity', 'citric acid', 'residual sugar',\n",
    "       'chlorides', 'free sulfur dioxide', 'total sulfur dioxide', 'density',\n",
    "       'pH', 'sulphates', 'alcohol']].values\n",
    "\n",
    "y_white_log = data_white['quality2'].values\n",
    "X_train_white_log, X_test_white_log, y_train_white_log, y_test_white_log = train_test_split(X_white_log, y_white_log, test_size=0.3, random_state=0)\n",
    "\n",
    "#train a logistic regression\n",
    "logreg = LogisticRegression(solver='liblinear')\n",
    "logreg.fit(X_train_white_log, y_train_white_log)\n",
    "print('Coefficients: \\n \\n {}'.format(logreg.coef_))\n",
    "y_pred_log_white = logreg.predict(X_test_white_log)\n",
    "print('\\n F1 Score: {:.4f}'.format(f1_score(y_test_white_log, y_pred_log_white)))\n"
   ]
  },
  {
   "cell_type": "markdown",
   "metadata": {},
   "source": [
    "# Exercise 6.10\n",
    "\n",
    "* Estimate a regularized logistic regression using:\n",
    "* C = 0.01, 0.1 & 1.0\n",
    "* penalty = ['l1, 'l2']\n",
    "* Compare the coefficients and the f1score"
   ]
  },
  {
   "cell_type": "markdown",
   "metadata": {},
   "source": [
    "### Regularized Logistic Regression for Red Wine"
   ]
  },
  {
   "cell_type": "code",
   "execution_count": 32,
   "metadata": {
    "scrolled": true
   },
   "outputs": [
    {
     "name": "stdout",
     "output_type": "stream",
     "text": [
      "----------------------\n",
      "With C: 0.01 and penalty: l1\n",
      "Coefficients: \n",
      " \n",
      " [[ 0.         -0.07507561  0.          0.          0.          0.\n",
      "   0.          0.          0.          0.          0.30100863]]\n",
      "\n",
      " F1 Score: 0.0000\n",
      "----------------------\n",
      "With C: 0.01 and penalty: l2\n",
      "Coefficients: \n",
      " \n",
      " [[ 0.09817991 -0.25099     0.13390968  0.08485128 -0.11688921 -0.05023255\n",
      "  -0.11901624 -0.16357189  0.00654934  0.2020224   0.38594502]]\n",
      "\n",
      " F1 Score: 0.3951\n",
      "----------------------\n",
      "With C: 0.1 and penalty: l1\n",
      "Coefficients: \n",
      " \n",
      " [[ 0.09899496 -0.67399756  0.          0.05314406 -0.13158183  0.\n",
      "  -0.20342301  0.          0.          0.35136791  0.88032864]]\n",
      "\n",
      " F1 Score: 0.4096\n",
      "----------------------\n",
      "With C: 0.1 and penalty: l2\n",
      "Coefficients: \n",
      " \n",
      " [[ 0.33010525 -0.51765219  0.13033159  0.22794832 -0.24651697 -0.019544\n",
      "  -0.27352367 -0.3594511   0.10830125  0.44025918  0.64887849]]\n",
      "\n",
      " F1 Score: 0.4286\n",
      "----------------------\n",
      "With C: 1.0 and penalty: l1\n",
      "Coefficients: \n",
      " \n",
      " [[ 0.54494397 -0.70662604  0.04554044  0.32117296 -0.29690239  0.\n",
      "  -0.35862217 -0.49669996  0.20129852  0.56506693  0.76407867]]\n",
      "\n",
      " F1 Score: 0.4368\n",
      "----------------------\n",
      "With C: 1.0 and penalty: l2\n",
      "Coefficients: \n",
      " \n",
      " [[ 0.58971747 -0.6718827   0.07956361  0.34287968 -0.30930075  0.01547746\n",
      "  -0.37488822 -0.55685491  0.24107098  0.57611182  0.72146375]]\n",
      "\n",
      " F1 Score: 0.4368\n"
     ]
    }
   ],
   "source": [
    "import warnings\n",
    "warnings.filterwarnings('ignore')\n",
    "\n",
    "C = [0.01, 0.1, 1.0]\n",
    "penalty = ['l1','l2']\n",
    "\n",
    "for i in C:\n",
    "    for j in penalty:\n",
    "        logreg = LogisticRegression(C=i, penalty=j,solver='liblinear',multi_class='auto')\n",
    "        logreg.fit(X_train_red, y_train_red)\n",
    "        print('----------------------')\n",
    "        print('With C: {} and penalty: {}'.format(i, j))\n",
    "        print('Coefficients: \\n \\n {}'.format(logreg.coef_))\n",
    "        y_pred_red = logreg.predict(X_test_red)\n",
    "        print('\\n F1 Score: {:.4f}'.format(f1_score(y_test_red, y_pred_red)))"
   ]
  },
  {
   "cell_type": "markdown",
   "metadata": {},
   "source": [
    "* When l1 is used as penalty, coefficients are shrink all the way to zero, thus removing them from the model.\n",
    "* When l2 is used, coefficients rarely reach zero.\n",
    "* Best F1 score is reached at C: 1.0 for both type of penalties: l1 and l2"
   ]
  },
  {
   "cell_type": "markdown",
   "metadata": {},
   "source": [
    "### Regularized Logistic Regression for White Wine"
   ]
  },
  {
   "cell_type": "code",
   "execution_count": 33,
   "metadata": {},
   "outputs": [
    {
     "name": "stdout",
     "output_type": "stream",
     "text": [
      "----------------------\n",
      "With C: 0.01 and penalty: l1\n",
      "Coefficients: \n",
      " \n",
      " [[ 0.         -0.09848937  0.          0.          0.          0.\n",
      "   0.          0.          0.          0.          0.7345353 ]]\n",
      "\n",
      " F1 Score: 0.2000\n",
      "----------------------\n",
      "With C: 0.01 and penalty: l2\n",
      "Coefficients: \n",
      " \n",
      " [[ 0.03167651 -0.22754801 -0.02581894  0.24660605 -0.19922089  0.15687366\n",
      "  -0.07710349 -0.27086948  0.1423239   0.10611144  0.64025844]]\n",
      "\n",
      " F1 Score: 0.3019\n",
      "----------------------\n",
      "With C: 0.1 and penalty: l1\n",
      "Coefficients: \n",
      " \n",
      " [[ 0.04183204 -0.37978547 -0.04107979  0.38271498 -0.26697115  0.1633712\n",
      "  -0.01898612 -0.25568514  0.17809811  0.12445252  0.96222614]]\n",
      "\n",
      " F1 Score: 0.3251\n",
      "----------------------\n",
      "With C: 0.1 and penalty: l2\n",
      "Coefficients: \n",
      " \n",
      " [[ 0.20299939 -0.38596816 -0.07504914  0.71718954 -0.28074904  0.19782331\n",
      "  -0.05390251 -0.75416188  0.29712256  0.16813933  0.72992002]]\n",
      "\n",
      " F1 Score: 0.3229\n",
      "----------------------\n",
      "With C: 1.0 and penalty: l1\n",
      "Coefficients: \n",
      " \n",
      " [[ 0.41223831 -0.41503525 -0.07873979  1.30659805 -0.25804366  0.17494622\n",
      "   0.         -1.64907773  0.46314077  0.22254194  0.3784472 ]]\n",
      "\n",
      " F1 Score: 0.3319\n",
      "----------------------\n",
      "With C: 1.0 and penalty: l2\n",
      "Coefficients: \n",
      " \n",
      " [[ 0.39680565 -0.41782308 -0.08350322  1.25293193 -0.26757298  0.17965584\n",
      "  -0.0046181  -1.55951553  0.45056598  0.21906411  0.42116242]]\n",
      "\n",
      " F1 Score: 0.3274\n"
     ]
    }
   ],
   "source": [
    "for i in C:\n",
    "    for j in penalty:\n",
    "        logreg = LogisticRegression(C=i, penalty=j,solver='liblinear',multi_class='auto')\n",
    "        logreg.fit(X_train_white, y_train_white)\n",
    "        print('----------------------')\n",
    "        print('With C: {} and penalty: {}'.format(i, j))\n",
    "        print('Coefficients: \\n \\n {}'.format(logreg.coef_))\n",
    "        y_pred_white = logreg.predict(X_test_white)\n",
    "        print('\\n F1 Score: {:.4f}'.format(f1_score(y_test_white, y_pred_white)))"
   ]
  },
  {
   "cell_type": "markdown",
   "metadata": {},
   "source": [
    "* When l1 is used as penalty, coefficients are shrink all the way to zero, thus removing them from the model.\n",
    "* When l2 is used, coefficients rarely reach zero.\n",
    "* Best F1 score is reached at C: 1.0 and penalty: l1"
   ]
  }
 ],
 "metadata": {
  "kernelspec": {
   "display_name": "Python 3",
   "language": "python",
   "name": "python3"
  },
  "language_info": {
   "codemirror_mode": {
    "name": "ipython",
    "version": 3
   },
   "file_extension": ".py",
   "mimetype": "text/x-python",
   "name": "python",
   "nbconvert_exporter": "python",
   "pygments_lexer": "ipython3",
   "version": "3.6.8"
  }
 },
 "nbformat": 4,
 "nbformat_minor": 1
}
