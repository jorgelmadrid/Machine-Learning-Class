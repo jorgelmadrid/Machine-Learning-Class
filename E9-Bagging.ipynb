{
 "cells": [
  {
   "cell_type": "markdown",
   "metadata": {},
   "source": [
    "# Exercise 9\n",
    "\n",
    "## Mashable news stories analysis\n",
    "\n",
    "Predicting if a news story is going to be popular\n"
   ]
  },
  {
   "cell_type": "code",
   "execution_count": 1,
   "metadata": {
    "scrolled": true
   },
   "outputs": [
    {
     "data": {
      "text/html": [
       "<div>\n",
       "<style scoped>\n",
       "    .dataframe tbody tr th:only-of-type {\n",
       "        vertical-align: middle;\n",
       "    }\n",
       "\n",
       "    .dataframe tbody tr th {\n",
       "        vertical-align: top;\n",
       "    }\n",
       "\n",
       "    .dataframe thead th {\n",
       "        text-align: right;\n",
       "    }\n",
       "</style>\n",
       "<table border=\"1\" class=\"dataframe\">\n",
       "  <thead>\n",
       "    <tr style=\"text-align: right;\">\n",
       "      <th></th>\n",
       "      <th>url</th>\n",
       "      <th>timedelta</th>\n",
       "      <th>n_tokens_title</th>\n",
       "      <th>n_tokens_content</th>\n",
       "      <th>n_unique_tokens</th>\n",
       "      <th>n_non_stop_words</th>\n",
       "      <th>n_non_stop_unique_tokens</th>\n",
       "      <th>num_hrefs</th>\n",
       "      <th>num_self_hrefs</th>\n",
       "      <th>num_imgs</th>\n",
       "      <th>...</th>\n",
       "      <th>min_positive_polarity</th>\n",
       "      <th>max_positive_polarity</th>\n",
       "      <th>avg_negative_polarity</th>\n",
       "      <th>min_negative_polarity</th>\n",
       "      <th>max_negative_polarity</th>\n",
       "      <th>title_subjectivity</th>\n",
       "      <th>title_sentiment_polarity</th>\n",
       "      <th>abs_title_subjectivity</th>\n",
       "      <th>abs_title_sentiment_polarity</th>\n",
       "      <th>Popular</th>\n",
       "    </tr>\n",
       "  </thead>\n",
       "  <tbody>\n",
       "    <tr>\n",
       "      <th>0</th>\n",
       "      <td>http://mashable.com/2014/12/10/cia-torture-rep...</td>\n",
       "      <td>28.0</td>\n",
       "      <td>9.0</td>\n",
       "      <td>188.0</td>\n",
       "      <td>0.732620</td>\n",
       "      <td>1.0</td>\n",
       "      <td>0.844262</td>\n",
       "      <td>5.0</td>\n",
       "      <td>1.0</td>\n",
       "      <td>1.0</td>\n",
       "      <td>...</td>\n",
       "      <td>0.200000</td>\n",
       "      <td>0.80</td>\n",
       "      <td>-0.487500</td>\n",
       "      <td>-0.60</td>\n",
       "      <td>-0.250000</td>\n",
       "      <td>0.9</td>\n",
       "      <td>0.8</td>\n",
       "      <td>0.4</td>\n",
       "      <td>0.8</td>\n",
       "      <td>1</td>\n",
       "    </tr>\n",
       "    <tr>\n",
       "      <th>1</th>\n",
       "      <td>http://mashable.com/2013/10/18/bitlock-kicksta...</td>\n",
       "      <td>447.0</td>\n",
       "      <td>7.0</td>\n",
       "      <td>297.0</td>\n",
       "      <td>0.653199</td>\n",
       "      <td>1.0</td>\n",
       "      <td>0.815789</td>\n",
       "      <td>9.0</td>\n",
       "      <td>4.0</td>\n",
       "      <td>1.0</td>\n",
       "      <td>...</td>\n",
       "      <td>0.160000</td>\n",
       "      <td>0.50</td>\n",
       "      <td>-0.135340</td>\n",
       "      <td>-0.40</td>\n",
       "      <td>-0.050000</td>\n",
       "      <td>0.1</td>\n",
       "      <td>-0.1</td>\n",
       "      <td>0.4</td>\n",
       "      <td>0.1</td>\n",
       "      <td>0</td>\n",
       "    </tr>\n",
       "    <tr>\n",
       "      <th>2</th>\n",
       "      <td>http://mashable.com/2013/07/24/google-glass-po...</td>\n",
       "      <td>533.0</td>\n",
       "      <td>11.0</td>\n",
       "      <td>181.0</td>\n",
       "      <td>0.660377</td>\n",
       "      <td>1.0</td>\n",
       "      <td>0.775701</td>\n",
       "      <td>4.0</td>\n",
       "      <td>3.0</td>\n",
       "      <td>1.0</td>\n",
       "      <td>...</td>\n",
       "      <td>0.136364</td>\n",
       "      <td>1.00</td>\n",
       "      <td>0.000000</td>\n",
       "      <td>0.00</td>\n",
       "      <td>0.000000</td>\n",
       "      <td>0.3</td>\n",
       "      <td>1.0</td>\n",
       "      <td>0.2</td>\n",
       "      <td>1.0</td>\n",
       "      <td>0</td>\n",
       "    </tr>\n",
       "    <tr>\n",
       "      <th>3</th>\n",
       "      <td>http://mashable.com/2013/11/21/these-are-the-m...</td>\n",
       "      <td>413.0</td>\n",
       "      <td>12.0</td>\n",
       "      <td>781.0</td>\n",
       "      <td>0.497409</td>\n",
       "      <td>1.0</td>\n",
       "      <td>0.677350</td>\n",
       "      <td>10.0</td>\n",
       "      <td>3.0</td>\n",
       "      <td>1.0</td>\n",
       "      <td>...</td>\n",
       "      <td>0.100000</td>\n",
       "      <td>1.00</td>\n",
       "      <td>-0.195701</td>\n",
       "      <td>-0.40</td>\n",
       "      <td>-0.071429</td>\n",
       "      <td>0.0</td>\n",
       "      <td>0.0</td>\n",
       "      <td>0.5</td>\n",
       "      <td>0.0</td>\n",
       "      <td>0</td>\n",
       "    </tr>\n",
       "    <tr>\n",
       "      <th>4</th>\n",
       "      <td>http://mashable.com/2014/02/11/parking-ticket-...</td>\n",
       "      <td>331.0</td>\n",
       "      <td>8.0</td>\n",
       "      <td>177.0</td>\n",
       "      <td>0.685714</td>\n",
       "      <td>1.0</td>\n",
       "      <td>0.830357</td>\n",
       "      <td>3.0</td>\n",
       "      <td>2.0</td>\n",
       "      <td>1.0</td>\n",
       "      <td>...</td>\n",
       "      <td>0.100000</td>\n",
       "      <td>0.55</td>\n",
       "      <td>-0.175000</td>\n",
       "      <td>-0.25</td>\n",
       "      <td>-0.100000</td>\n",
       "      <td>0.0</td>\n",
       "      <td>0.0</td>\n",
       "      <td>0.5</td>\n",
       "      <td>0.0</td>\n",
       "      <td>0</td>\n",
       "    </tr>\n",
       "  </tbody>\n",
       "</table>\n",
       "<p>5 rows × 61 columns</p>\n",
       "</div>"
      ],
      "text/plain": [
       "                                                 url  timedelta  \\\n",
       "0  http://mashable.com/2014/12/10/cia-torture-rep...       28.0   \n",
       "1  http://mashable.com/2013/10/18/bitlock-kicksta...      447.0   \n",
       "2  http://mashable.com/2013/07/24/google-glass-po...      533.0   \n",
       "3  http://mashable.com/2013/11/21/these-are-the-m...      413.0   \n",
       "4  http://mashable.com/2014/02/11/parking-ticket-...      331.0   \n",
       "\n",
       "   n_tokens_title  n_tokens_content  n_unique_tokens  n_non_stop_words  \\\n",
       "0             9.0             188.0         0.732620               1.0   \n",
       "1             7.0             297.0         0.653199               1.0   \n",
       "2            11.0             181.0         0.660377               1.0   \n",
       "3            12.0             781.0         0.497409               1.0   \n",
       "4             8.0             177.0         0.685714               1.0   \n",
       "\n",
       "   n_non_stop_unique_tokens  num_hrefs  num_self_hrefs  num_imgs  ...  \\\n",
       "0                  0.844262        5.0             1.0       1.0  ...   \n",
       "1                  0.815789        9.0             4.0       1.0  ...   \n",
       "2                  0.775701        4.0             3.0       1.0  ...   \n",
       "3                  0.677350       10.0             3.0       1.0  ...   \n",
       "4                  0.830357        3.0             2.0       1.0  ...   \n",
       "\n",
       "   min_positive_polarity  max_positive_polarity  avg_negative_polarity  \\\n",
       "0               0.200000                   0.80              -0.487500   \n",
       "1               0.160000                   0.50              -0.135340   \n",
       "2               0.136364                   1.00               0.000000   \n",
       "3               0.100000                   1.00              -0.195701   \n",
       "4               0.100000                   0.55              -0.175000   \n",
       "\n",
       "   min_negative_polarity  max_negative_polarity  title_subjectivity  \\\n",
       "0                  -0.60              -0.250000                 0.9   \n",
       "1                  -0.40              -0.050000                 0.1   \n",
       "2                   0.00               0.000000                 0.3   \n",
       "3                  -0.40              -0.071429                 0.0   \n",
       "4                  -0.25              -0.100000                 0.0   \n",
       "\n",
       "   title_sentiment_polarity  abs_title_subjectivity  \\\n",
       "0                       0.8                     0.4   \n",
       "1                      -0.1                     0.4   \n",
       "2                       1.0                     0.2   \n",
       "3                       0.0                     0.5   \n",
       "4                       0.0                     0.5   \n",
       "\n",
       "   abs_title_sentiment_polarity  Popular  \n",
       "0                           0.8        1  \n",
       "1                           0.1        0  \n",
       "2                           1.0        0  \n",
       "3                           0.0        0  \n",
       "4                           0.0        0  \n",
       "\n",
       "[5 rows x 61 columns]"
      ]
     },
     "execution_count": 1,
     "metadata": {},
     "output_type": "execute_result"
    }
   ],
   "source": [
    "import pandas as pd\n",
    "import numpy as np\n",
    "\n",
    "url = 'https://raw.githubusercontent.com/albahnsen/PracticalMachineLearningClass/master/datasets/mashable.csv'\n",
    "df = pd.read_csv(url, index_col=0)\n",
    "df.head()"
   ]
  },
  {
   "cell_type": "code",
   "execution_count": 2,
   "metadata": {
    "scrolled": true
   },
   "outputs": [
    {
     "data": {
      "text/plain": [
       "(6000, 61)"
      ]
     },
     "execution_count": 2,
     "metadata": {},
     "output_type": "execute_result"
    }
   ],
   "source": [
    "df.shape"
   ]
  },
  {
   "cell_type": "code",
   "execution_count": 3,
   "metadata": {
    "scrolled": true
   },
   "outputs": [],
   "source": [
    "X = df.drop(['url', 'Popular'], axis=1)\n",
    "y = df['Popular']"
   ]
  },
  {
   "cell_type": "code",
   "execution_count": 4,
   "metadata": {
    "scrolled": true
   },
   "outputs": [
    {
     "data": {
      "text/plain": [
       "0.5"
      ]
     },
     "execution_count": 4,
     "metadata": {},
     "output_type": "execute_result"
    }
   ],
   "source": [
    "y.mean()"
   ]
  },
  {
   "cell_type": "code",
   "execution_count": 5,
   "metadata": {
    "scrolled": true
   },
   "outputs": [],
   "source": [
    "# train/test split\n",
    "from sklearn.model_selection import train_test_split\n",
    "X_train, X_test, y_train, y_test = train_test_split(X, y, random_state=1)"
   ]
  },
  {
   "cell_type": "markdown",
   "metadata": {},
   "source": [
    "# Exercise 9.1\n",
    "\n",
    "Estimate a Decision Tree Classifier and a Logistic Regresion\n",
    "\n",
    "Evaluate using the following metrics:\n",
    "* Accuracy\n",
    "* F1-Score"
   ]
  },
  {
   "cell_type": "code",
   "execution_count": 6,
   "metadata": {
    "scrolled": true
   },
   "outputs": [
    {
     "data": {
      "text/html": [
       "<div>\n",
       "<style scoped>\n",
       "    .dataframe tbody tr th:only-of-type {\n",
       "        vertical-align: middle;\n",
       "    }\n",
       "\n",
       "    .dataframe tbody tr th {\n",
       "        vertical-align: top;\n",
       "    }\n",
       "\n",
       "    .dataframe thead th {\n",
       "        text-align: right;\n",
       "    }\n",
       "</style>\n",
       "<table border=\"1\" class=\"dataframe\">\n",
       "  <thead>\n",
       "    <tr style=\"text-align: right;\">\n",
       "      <th></th>\n",
       "      <th>Accuracy</th>\n",
       "      <th>F-1 Score</th>\n",
       "    </tr>\n",
       "  </thead>\n",
       "  <tbody>\n",
       "    <tr>\n",
       "      <th>Decision Tree</th>\n",
       "      <td>0.542667</td>\n",
       "      <td>0.540214</td>\n",
       "    </tr>\n",
       "    <tr>\n",
       "      <th>Logistic Regression</th>\n",
       "      <td>0.617333</td>\n",
       "      <td>0.601942</td>\n",
       "    </tr>\n",
       "  </tbody>\n",
       "</table>\n",
       "</div>"
      ],
      "text/plain": [
       "                     Accuracy  F-1 Score\n",
       "Decision Tree        0.542667   0.540214\n",
       "Logistic Regression  0.617333   0.601942"
      ]
     },
     "execution_count": 6,
     "metadata": {},
     "output_type": "execute_result"
    }
   ],
   "source": [
    "from sklearn.tree import DecisionTreeClassifier\n",
    "from sklearn.linear_model import LogisticRegression\n",
    "from sklearn.metrics import accuracy_score, f1_score\n",
    "\n",
    "models = {'Decision Tree': DecisionTreeClassifier(random_state=1),\n",
    "          'Logistic Regression': LogisticRegression(solver='liblinear')}\n",
    "\n",
    "#iterate over each model\n",
    "for model in models.keys():\n",
    "    models[model].fit(X_train, y_train)\n",
    "\n",
    "# predict test for each model\n",
    "y_pred = pd.DataFrame(columns=models.keys())\n",
    "for model in models.keys():\n",
    "    y_pred[model] = models[model].predict(X_test)\n",
    "\n",
    "#comparing models\n",
    "results = []\n",
    "for model in models.keys():\n",
    "    results.append({'Accuracy':accuracy_score(y_pred[model],y_test),'F-1 Score': f1_score(y_pred[model],y_test)})\n",
    "    \n",
    "results = pd.DataFrame(data=results, index=models.keys())\n",
    "results"
   ]
  },
  {
   "cell_type": "markdown",
   "metadata": {},
   "source": [
    "# Exercise 9.2\n",
    "\n",
    "Estimate 300 bagged samples\n",
    "\n",
    "Estimate the following set of classifiers:\n",
    "\n",
    "* 100 Decision Trees where max_depth=None\n",
    "* 100 Decision Trees where max_depth=2\n",
    "* 100 Logistic Regressions"
   ]
  },
  {
   "cell_type": "code",
   "execution_count": 7,
   "metadata": {
    "scrolled": true
   },
   "outputs": [],
   "source": [
    "np.random.seed(111)\n",
    "\n",
    "n_samples = X_train.shape[0]\n",
    "n_estimators = 300\n",
    "\n",
    "# create 300 bootstrap samples\n",
    "samples = [np.random.choice(a=n_samples, size=n_samples, replace=True) for i in range(n_estimators)]"
   ]
  },
  {
   "cell_type": "code",
   "execution_count": 8,
   "metadata": {
    "scrolled": true
   },
   "outputs": [],
   "source": [
    "np.random.seed(111) \n",
    "seeds = np.random.randint(1, 10000, size=n_estimators)\n",
    "\n",
    "trees_log = {}\n",
    "\n",
    "#100 Decision Trees where max_depth=None\n",
    "for i in range(0,100):\n",
    "    trees_log[i] = DecisionTreeClassifier(max_depth=None, random_state=seeds[i])\n",
    "    trees_log[i].fit(X_train.iloc[samples[i]], y_train.iloc[samples[i]])\n",
    "\n",
    "#100 Decision Trees where max_depth=2\n",
    "for i in range(100,200):\n",
    "    trees_log[i] = DecisionTreeClassifier(max_depth=2, random_state=seeds[i])\n",
    "    trees_log[i].fit(X_train.iloc[samples[i]], y_train.iloc[samples[i]])\n",
    "\n",
    "#100 Logistic Regressions\n",
    "for i in range(200,300):\n",
    "    trees_log[i] = LogisticRegression(solver='liblinear',random_state=seeds[i])\n",
    "    trees_log[i].fit(X_train.iloc[samples[i]], y_train.iloc[samples[i]])"
   ]
  },
  {
   "cell_type": "code",
   "execution_count": 9,
   "metadata": {},
   "outputs": [
    {
     "name": "stdout",
     "output_type": "stream",
     "text": [
      "100 Decision Trees(max_depth=None)\n",
      "Accuracy: 0.6466666666666666\n",
      "F-1 Score: 0.6517739816031538\n",
      "-----------------------\n",
      "100 Decision Trees(max_depth=2)\n",
      "Accuracy: 0.6426666666666667\n",
      "F-1 Score: 0.639300134589502\n",
      "-----------------------\n",
      "100 Logistic Regression\n",
      "Accuracy: 0.6226666666666667\n",
      "F-1 Score: 0.603641456582633\n"
     ]
    }
   ],
   "source": [
    "#Prediction for 100 Decision Trees where max_depth=None\n",
    "y_pred_df_dt = pd.DataFrame(index=X_test.index, columns=list(range(0,100)))\n",
    "for i in range(0,100):\n",
    "    y_pred_df_dt.iloc[:, i] = trees_log[i].predict(X_test)\n",
    "\n",
    "#Prediction for 100 Decision Trees where max_depth=2\n",
    "y_pred_df_dt_2 = pd.DataFrame(index=X_test.index, columns=list(range(0,300)))\n",
    "for i in range(100,200):\n",
    "    y_pred_df_dt_2.iloc[:, i] = trees_log[i].predict(X_test)\n",
    "y_pred_df_dt_2 = y_pred_df_dt_2.loc[:, 100:199]\n",
    "y_pred_df_dt_2.head()\n",
    "\n",
    "#Prediction for 100 Logistic Regressions\n",
    "y_pred_df_lr = pd.DataFrame(index=X_test.index, columns=list(range(0,300)))\n",
    "for i in range(200,300):\n",
    "    y_pred_df_lr.iloc[:, i] = trees_log[i].predict(X_test)\n",
    "y_pred_df_lr = y_pred_df_lr.iloc[:, 200:300]\n",
    "y_pred_df_lr.head()\n",
    "\n",
    "    \n",
    "y_pred_dt = (y_pred_df_dt.sum(axis=1) >= 100 / 2).astype(np.int)\n",
    "y_pred_dt_2 = (y_pred_df_dt_2.sum(axis=1) >= 100 / 2).astype(np.int)\n",
    "y_pred_lr = (y_pred_df_lr.sum(axis=1) >= 100 / 2).astype(np.int)\n",
    "\n",
    "#Metrics for 100 Decision Trees where max_depth=None\n",
    "dt_acc = accuracy_score(y_pred_dt, y_test)\n",
    "dt_f1 = f1_score(y_pred_dt, y_test)\n",
    "\n",
    "#Metrics for 100 Decision Trees where max_depth=2\n",
    "dt_acc_2 = accuracy_score(y_pred_dt_2, y_test)\n",
    "dt_f1_2 = f1_score(y_pred_dt_2, y_test)\n",
    "\n",
    "#Metrics for 100 Logistic Regressions\n",
    "lr_acc = accuracy_score(y_pred_lr, y_test)\n",
    "lr_f1 = f1_score(y_pred_lr, y_test)\n",
    "\n",
    "print('100 Decision Trees(max_depth=None)')\n",
    "print('Accuracy:',dt_acc)\n",
    "print('F-1 Score:',dt_f1)\n",
    "print('-----------------------')\n",
    "print('100 Decision Trees(max_depth=2)')\n",
    "print('Accuracy:',dt_acc_2)\n",
    "print('F-1 Score:',dt_f1_2)\n",
    "print('-----------------------')\n",
    "print('100 Logistic Regression')\n",
    "print('Accuracy:',lr_acc)\n",
    "print('F-1 Score:',lr_f1)"
   ]
  },
  {
   "cell_type": "markdown",
   "metadata": {},
   "source": [
    "# Exercise 9.3\n",
    "\n",
    "Ensemble using majority voting\n",
    "\n",
    "Evaluate using the following metrics:\n",
    "* Accuracy\n",
    "* F1-Score"
   ]
  },
  {
   "cell_type": "code",
   "execution_count": 10,
   "metadata": {
    "scrolled": true
   },
   "outputs": [
    {
     "data": {
      "text/html": [
       "<div>\n",
       "<style scoped>\n",
       "    .dataframe tbody tr th:only-of-type {\n",
       "        vertical-align: middle;\n",
       "    }\n",
       "\n",
       "    .dataframe tbody tr th {\n",
       "        vertical-align: top;\n",
       "    }\n",
       "\n",
       "    .dataframe thead th {\n",
       "        text-align: right;\n",
       "    }\n",
       "</style>\n",
       "<table border=\"1\" class=\"dataframe\">\n",
       "  <thead>\n",
       "    <tr style=\"text-align: right;\">\n",
       "      <th></th>\n",
       "      <th>0</th>\n",
       "      <th>1</th>\n",
       "      <th>2</th>\n",
       "      <th>3</th>\n",
       "      <th>4</th>\n",
       "      <th>5</th>\n",
       "      <th>6</th>\n",
       "      <th>7</th>\n",
       "      <th>8</th>\n",
       "      <th>9</th>\n",
       "      <th>...</th>\n",
       "      <th>290</th>\n",
       "      <th>291</th>\n",
       "      <th>292</th>\n",
       "      <th>293</th>\n",
       "      <th>294</th>\n",
       "      <th>295</th>\n",
       "      <th>296</th>\n",
       "      <th>297</th>\n",
       "      <th>298</th>\n",
       "      <th>299</th>\n",
       "    </tr>\n",
       "  </thead>\n",
       "  <tbody>\n",
       "    <tr>\n",
       "      <th>1483</th>\n",
       "      <td>1</td>\n",
       "      <td>0</td>\n",
       "      <td>1</td>\n",
       "      <td>1</td>\n",
       "      <td>1</td>\n",
       "      <td>0</td>\n",
       "      <td>1</td>\n",
       "      <td>0</td>\n",
       "      <td>1</td>\n",
       "      <td>1</td>\n",
       "      <td>...</td>\n",
       "      <td>1</td>\n",
       "      <td>1</td>\n",
       "      <td>1</td>\n",
       "      <td>1</td>\n",
       "      <td>1</td>\n",
       "      <td>1</td>\n",
       "      <td>1</td>\n",
       "      <td>1</td>\n",
       "      <td>1</td>\n",
       "      <td>1</td>\n",
       "    </tr>\n",
       "    <tr>\n",
       "      <th>2185</th>\n",
       "      <td>1</td>\n",
       "      <td>0</td>\n",
       "      <td>1</td>\n",
       "      <td>1</td>\n",
       "      <td>1</td>\n",
       "      <td>1</td>\n",
       "      <td>1</td>\n",
       "      <td>0</td>\n",
       "      <td>1</td>\n",
       "      <td>0</td>\n",
       "      <td>...</td>\n",
       "      <td>1</td>\n",
       "      <td>1</td>\n",
       "      <td>1</td>\n",
       "      <td>1</td>\n",
       "      <td>1</td>\n",
       "      <td>1</td>\n",
       "      <td>1</td>\n",
       "      <td>1</td>\n",
       "      <td>1</td>\n",
       "      <td>1</td>\n",
       "    </tr>\n",
       "    <tr>\n",
       "      <th>2520</th>\n",
       "      <td>1</td>\n",
       "      <td>1</td>\n",
       "      <td>0</td>\n",
       "      <td>1</td>\n",
       "      <td>0</td>\n",
       "      <td>0</td>\n",
       "      <td>1</td>\n",
       "      <td>1</td>\n",
       "      <td>0</td>\n",
       "      <td>0</td>\n",
       "      <td>...</td>\n",
       "      <td>1</td>\n",
       "      <td>1</td>\n",
       "      <td>1</td>\n",
       "      <td>1</td>\n",
       "      <td>1</td>\n",
       "      <td>1</td>\n",
       "      <td>1</td>\n",
       "      <td>1</td>\n",
       "      <td>1</td>\n",
       "      <td>1</td>\n",
       "    </tr>\n",
       "    <tr>\n",
       "      <th>3721</th>\n",
       "      <td>1</td>\n",
       "      <td>0</td>\n",
       "      <td>1</td>\n",
       "      <td>1</td>\n",
       "      <td>1</td>\n",
       "      <td>1</td>\n",
       "      <td>1</td>\n",
       "      <td>1</td>\n",
       "      <td>1</td>\n",
       "      <td>1</td>\n",
       "      <td>...</td>\n",
       "      <td>1</td>\n",
       "      <td>1</td>\n",
       "      <td>1</td>\n",
       "      <td>1</td>\n",
       "      <td>1</td>\n",
       "      <td>1</td>\n",
       "      <td>1</td>\n",
       "      <td>1</td>\n",
       "      <td>1</td>\n",
       "      <td>1</td>\n",
       "    </tr>\n",
       "    <tr>\n",
       "      <th>3727</th>\n",
       "      <td>1</td>\n",
       "      <td>0</td>\n",
       "      <td>0</td>\n",
       "      <td>0</td>\n",
       "      <td>1</td>\n",
       "      <td>1</td>\n",
       "      <td>0</td>\n",
       "      <td>0</td>\n",
       "      <td>0</td>\n",
       "      <td>1</td>\n",
       "      <td>...</td>\n",
       "      <td>0</td>\n",
       "      <td>0</td>\n",
       "      <td>0</td>\n",
       "      <td>0</td>\n",
       "      <td>0</td>\n",
       "      <td>0</td>\n",
       "      <td>0</td>\n",
       "      <td>0</td>\n",
       "      <td>0</td>\n",
       "      <td>0</td>\n",
       "    </tr>\n",
       "  </tbody>\n",
       "</table>\n",
       "<p>5 rows × 300 columns</p>\n",
       "</div>"
      ],
      "text/plain": [
       "      0    1    2    3    4    5    6    7    8    9    ...  290  291  292  \\\n",
       "1483    1    0    1    1    1    0    1    0    1    1  ...    1    1    1   \n",
       "2185    1    0    1    1    1    1    1    0    1    0  ...    1    1    1   \n",
       "2520    1    1    0    1    0    0    1    1    0    0  ...    1    1    1   \n",
       "3721    1    0    1    1    1    1    1    1    1    1  ...    1    1    1   \n",
       "3727    1    0    0    0    1    1    0    0    0    1  ...    0    0    0   \n",
       "\n",
       "      293  294  295  296  297  298  299  \n",
       "1483    1    1    1    1    1    1    1  \n",
       "2185    1    1    1    1    1    1    1  \n",
       "2520    1    1    1    1    1    1    1  \n",
       "3721    1    1    1    1    1    1    1  \n",
       "3727    0    0    0    0    0    0    0  \n",
       "\n",
       "[5 rows x 300 columns]"
      ]
     },
     "execution_count": 10,
     "metadata": {},
     "output_type": "execute_result"
    }
   ],
   "source": [
    "# Predict \n",
    "y_pred_df = pd.DataFrame(index=X_test.index, columns=list(range(n_estimators)))\n",
    "for i in range(n_estimators):\n",
    "    y_pred_df.iloc[:, i] = trees_log[i].predict(X_test)\n",
    "    \n",
    "y_pred_df.head()"
   ]
  },
  {
   "cell_type": "code",
   "execution_count": 11,
   "metadata": {
    "scrolled": true
   },
   "outputs": [
    {
     "name": "stdout",
     "output_type": "stream",
     "text": [
      "Accuracy: 0.64\n",
      "F-1 Score: 0.6255201109570042\n"
     ]
    }
   ],
   "source": [
    "y_pred = (y_pred_df.sum(axis=1) >= (n_estimators / 2)).astype(np.int)\n",
    "\n",
    "majority_acc = accuracy_score(y_pred, y_test)\n",
    "majority_f1 = f1_score(y_pred, y_test)\n",
    "\n",
    "print('Accuracy:',majority_acc)\n",
    "print('F-1 Score:',majority_f1)"
   ]
  },
  {
   "cell_type": "markdown",
   "metadata": {},
   "source": [
    "# Exercise 9.4\n",
    "\n",
    "Estimate the probability as %models that predict positive\n",
    "\n",
    "Modify the probability threshold and select the one that maximizes the F1-Score"
   ]
  },
  {
   "cell_type": "code",
   "execution_count": 12,
   "metadata": {
    "scrolled": true
   },
   "outputs": [
    {
     "data": {
      "text/plain": [
       "0.4573333333333333"
      ]
     },
     "execution_count": 12,
     "metadata": {},
     "output_type": "execute_result"
    }
   ],
   "source": [
    "y_pred_pos = y_pred.sum() / len(y_pred)\n",
    "y_pred_pos"
   ]
  },
  {
   "cell_type": "code",
   "execution_count": 13,
   "metadata": {},
   "outputs": [
    {
     "name": "stdout",
     "output_type": "stream",
     "text": [
      "Best threshold:  0.14 F1-Score: 0.7119363395225464\n"
     ]
    },
    {
     "data": {
      "image/png": "[encoded data removed]",
      "text/plain": [
       "<Figure size 432x288 with 1 Axes>"
      ]
     },
     "metadata": {
      "needs_background": "light"
     },
     "output_type": "display_data"
    }
   ],
   "source": [
    "thresholds = []\n",
    "for thresh in np.arange(0.1,0.501, 0.001):\n",
    "    thresh = np.round(thresh, 2)\n",
    "    res = f1_score(y_test, (y_pred_df.sum(axis=1) >= (n_estimators * thresh)).astype(int))\n",
    "    thresholds.append([thresh,res])\n",
    "    \n",
    "thresholds.sort(key=lambda x: x[1], reverse=True)\n",
    "best_thresh = thresholds[0][0]\n",
    "best_f1_score = thresholds[0][1]\n",
    "print(\"Best threshold: \", best_thresh,'F1-Score:',best_f1_score)\n",
    "\n",
    "%matplotlib inline\n",
    "import matplotlib.pyplot as plt\n",
    "x, y = zip(*thresholds)\n",
    "plt.scatter(x,y)\n",
    "plt.ylabel('F1-Score')\n",
    "plt.xlabel('Thresholds')\n",
    "plt.show()"
   ]
  },
  {
   "cell_type": "markdown",
   "metadata": {},
   "source": [
    "# Exercise 9.5\n",
    "\n",
    "Ensemble using weighted voting using the oob_error\n",
    "\n",
    "Evaluate using the following metrics:\n",
    "* Accuracy\n",
    "* F1-Score"
   ]
  },
  {
   "cell_type": "markdown",
   "metadata": {},
   "source": [
    "**Select each oob sample**"
   ]
  },
  {
   "cell_type": "code",
   "execution_count": 14,
   "metadata": {},
   "outputs": [],
   "source": [
    "samples_oob = []\n",
    "\n",
    "# show the \"out-of-bag\" observations for each sample\n",
    "for sample in samples:\n",
    "    samples_oob.append(sorted(set(range(n_samples)) - set(sample)))"
   ]
  },
  {
   "cell_type": "markdown",
   "metadata": {},
   "source": [
    "**Estimate the oob error of each classifier**"
   ]
  },
  {
   "cell_type": "code",
   "execution_count": 15,
   "metadata": {},
   "outputs": [],
   "source": [
    "errors = np.zeros(n_estimators)\n",
    "\n",
    "for i in range(0,100):\n",
    "    y_pred_ = trees_log[i].predict(X_train.iloc[samples_oob[i]])\n",
    "    errors[i] = 1 - accuracy_score(y_train.iloc[samples_oob[i]], y_pred_)\n",
    "\n",
    "for i in range(100,200):\n",
    "    y_pred_ = trees_log[i].predict(X_train.iloc[samples_oob[i]])\n",
    "    errors[i] = 1 - accuracy_score(y_train.iloc[samples_oob[i]], y_pred_)\n",
    "\n",
    "for i in range(200,300):\n",
    "    y_pred_ = trees_log[i].predict(X_train.iloc[samples_oob[i]])\n",
    "    errors[i] = 1 - accuracy_score(y_train.iloc[samples_oob[i]], y_pred_)"
   ]
  },
  {
   "cell_type": "code",
   "execution_count": 16,
   "metadata": {},
   "outputs": [
    {
     "data": {
      "text/plain": [
       "Text(0.5, 1.0, 'OOB error of each tree (max_depth=None)')"
      ]
     },
     "execution_count": 16,
     "metadata": {},
     "output_type": "execute_result"
    },
    {
     "data": {
      "image/png": "[encoded data removed]",
      "text/plain": [
       "<Figure size 432x288 with 1 Axes>"
      ]
     },
     "metadata": {
      "needs_background": "light"
     },
     "output_type": "display_data"
    }
   ],
   "source": [
    "plt.scatter(range(0,100), errors[0:100])\n",
    "plt.xlim([0, 100])\n",
    "plt.title('OOB error of each tree (max_depth=None)')"
   ]
  },
  {
   "cell_type": "code",
   "execution_count": 17,
   "metadata": {},
   "outputs": [
    {
     "data": {
      "text/plain": [
       "Text(0.5, 1.0, 'OOB error of each tree (max_depth=2)')"
      ]
     },
     "execution_count": 17,
     "metadata": {},
     "output_type": "execute_result"
    },
    {
     "data": {
      "image/png": "[encoded data removed]",
      "text/plain": [
       "<Figure size 432x288 with 1 Axes>"
      ]
     },
     "metadata": {
      "needs_background": "light"
     },
     "output_type": "display_data"
    }
   ],
   "source": [
    "plt.scatter(range(100,200), errors[100:200])\n",
    "plt.xlim([100, 200])\n",
    "plt.title('OOB error of each tree (max_depth=2)')"
   ]
  },
  {
   "cell_type": "code",
   "execution_count": 18,
   "metadata": {},
   "outputs": [
    {
     "data": {
      "text/plain": [
       "Text(0.5, 1.0, 'OOB error of each Logistic Regression')"
      ]
     },
     "execution_count": 18,
     "metadata": {},
     "output_type": "execute_result"
    },
    {
     "data": {
      "image/png": "[encoded data removed]",
      "text/plain": [
       "<Figure size 432x288 with 1 Axes>"
      ]
     },
     "metadata": {
      "needs_background": "light"
     },
     "output_type": "display_data"
    }
   ],
   "source": [
    "plt.scatter(range(200,300), errors[200:300])\n",
    "plt.xlim([200, 300])\n",
    "plt.title('OOB error of each Logistic Regression')"
   ]
  },
  {
   "cell_type": "markdown",
   "metadata": {},
   "source": [
    "**Estimate $\\alpha$**"
   ]
  },
  {
   "cell_type": "code",
   "execution_count": 19,
   "metadata": {},
   "outputs": [],
   "source": [
    "alpha = (1 - errors) / (1 - errors).sum()"
   ]
  },
  {
   "cell_type": "code",
   "execution_count": 20,
   "metadata": {},
   "outputs": [
    {
     "data": {
      "text/plain": [
       "1483    0.929324\n",
       "2185    0.895182\n",
       "2520    0.848218\n",
       "3721    0.884949\n",
       "3727    0.077192\n",
       "dtype: float64"
      ]
     },
     "execution_count": 20,
     "metadata": {},
     "output_type": "execute_result"
    }
   ],
   "source": [
    "weighted_sum = ((y_pred_df) * alpha).sum(axis=1)\n",
    "weighted_sum.head(5)"
   ]
  },
  {
   "cell_type": "code",
   "execution_count": 21,
   "metadata": {},
   "outputs": [
    {
     "name": "stdout",
     "output_type": "stream",
     "text": [
      "Accuracy: 0.6406666666666667\n",
      "F-1 Score: 0.6254343293954134\n"
     ]
    }
   ],
   "source": [
    "y_pred = (weighted_sum >= 0.5).astype(np.int)\n",
    "\n",
    "weighted_acc = accuracy_score(y_pred, y_test)\n",
    "weighted_f1 = f1_score(y_pred, y_test)\n",
    "\n",
    "print('Accuracy:',weighted_acc)\n",
    "print('F-1 Score:',weighted_f1)"
   ]
  },
  {
   "cell_type": "markdown",
   "metadata": {},
   "source": [
    "# Exercise 9.6\n",
    "\n",
    "Estimate the probability of the weighted voting\n",
    "\n",
    "Modify the probability threshold and select the one that maximizes the F1-Score"
   ]
  },
  {
   "cell_type": "code",
   "execution_count": 22,
   "metadata": {
    "scrolled": true
   },
   "outputs": [
    {
     "data": {
      "text/plain": [
       "0.4553333333333333"
      ]
     },
     "execution_count": 22,
     "metadata": {},
     "output_type": "execute_result"
    }
   ],
   "source": [
    "y_pred_pos = y_pred.sum() / len(y_pred)\n",
    "y_pred_pos"
   ]
  },
  {
   "cell_type": "code",
   "execution_count": 23,
   "metadata": {},
   "outputs": [
    {
     "name": "stdout",
     "output_type": "stream",
     "text": [
      "Best threshold:  0.13 F1-Score: 0.7092348284960422\n"
     ]
    },
    {
     "data": {
      "image/png": "[encoded data removed]",
      "text/plain": [
       "<Figure size 432x288 with 1 Axes>"
      ]
     },
     "metadata": {
      "needs_background": "light"
     },
     "output_type": "display_data"
    }
   ],
   "source": [
    "thresholds = []\n",
    "for thresh in np.arange(0.1,0.501, 0.001):\n",
    "    thresh = np.round(thresh, 2)\n",
    "    res = f1_score(y_test, (weighted_sum >= thresh).astype(int))\n",
    "    thresholds.append([thresh,res])\n",
    "    \n",
    "thresholds.sort(key=lambda x: x[1], reverse=True)\n",
    "best_thresh = thresholds[0][0]\n",
    "best_f1_score = thresholds[0][1]\n",
    "print(\"Best threshold: \", best_thresh,'F1-Score:',best_f1_score)\n",
    "\n",
    "%matplotlib inline\n",
    "import matplotlib.pyplot as plt\n",
    "x, y = zip(*thresholds)\n",
    "plt.scatter(x,y)\n",
    "plt.ylabel('F1-Score')\n",
    "plt.xlabel('Thresholds')\n",
    "plt.show()"
   ]
  },
  {
   "cell_type": "markdown",
   "metadata": {},
   "source": [
    "# Exercise 9.7\n",
    "\n",
    "Estimate a logistic regression using as input the estimated classifiers\n",
    "\n",
    "Modify the probability threshold such that maximizes the F1-Score"
   ]
  },
  {
   "cell_type": "code",
   "execution_count": 24,
   "metadata": {
    "scrolled": true
   },
   "outputs": [],
   "source": [
    "X_train_2 = pd.DataFrame(index=X_train.index, columns=list(range(n_estimators)))\n",
    "\n",
    "for i in range(0, 100):\n",
    "    X_train_2[i] = trees_log[i].predict(X_train)\n",
    "\n",
    "for i in range(100, 200):\n",
    "    X_train_2[i] = trees_log[i].predict(X_train)\n",
    "    \n",
    "for i in range(200, 300):\n",
    "    X_train_2[i] = trees_log[i].predict(X_train)"
   ]
  },
  {
   "cell_type": "code",
   "execution_count": 25,
   "metadata": {},
   "outputs": [
    {
     "data": {
      "text/html": [
       "<div>\n",
       "<style scoped>\n",
       "    .dataframe tbody tr th:only-of-type {\n",
       "        vertical-align: middle;\n",
       "    }\n",
       "\n",
       "    .dataframe tbody tr th {\n",
       "        vertical-align: top;\n",
       "    }\n",
       "\n",
       "    .dataframe thead th {\n",
       "        text-align: right;\n",
       "    }\n",
       "</style>\n",
       "<table border=\"1\" class=\"dataframe\">\n",
       "  <thead>\n",
       "    <tr style=\"text-align: right;\">\n",
       "      <th></th>\n",
       "      <th>0</th>\n",
       "      <th>1</th>\n",
       "      <th>2</th>\n",
       "      <th>3</th>\n",
       "      <th>4</th>\n",
       "      <th>5</th>\n",
       "      <th>6</th>\n",
       "      <th>7</th>\n",
       "      <th>8</th>\n",
       "      <th>9</th>\n",
       "      <th>...</th>\n",
       "      <th>290</th>\n",
       "      <th>291</th>\n",
       "      <th>292</th>\n",
       "      <th>293</th>\n",
       "      <th>294</th>\n",
       "      <th>295</th>\n",
       "      <th>296</th>\n",
       "      <th>297</th>\n",
       "      <th>298</th>\n",
       "      <th>299</th>\n",
       "    </tr>\n",
       "  </thead>\n",
       "  <tbody>\n",
       "    <tr>\n",
       "      <th>2420</th>\n",
       "      <td>1</td>\n",
       "      <td>0</td>\n",
       "      <td>1</td>\n",
       "      <td>1</td>\n",
       "      <td>1</td>\n",
       "      <td>1</td>\n",
       "      <td>1</td>\n",
       "      <td>1</td>\n",
       "      <td>1</td>\n",
       "      <td>1</td>\n",
       "      <td>...</td>\n",
       "      <td>1</td>\n",
       "      <td>1</td>\n",
       "      <td>1</td>\n",
       "      <td>1</td>\n",
       "      <td>1</td>\n",
       "      <td>1</td>\n",
       "      <td>1</td>\n",
       "      <td>1</td>\n",
       "      <td>1</td>\n",
       "      <td>1</td>\n",
       "    </tr>\n",
       "    <tr>\n",
       "      <th>1225</th>\n",
       "      <td>1</td>\n",
       "      <td>1</td>\n",
       "      <td>1</td>\n",
       "      <td>1</td>\n",
       "      <td>1</td>\n",
       "      <td>1</td>\n",
       "      <td>0</td>\n",
       "      <td>1</td>\n",
       "      <td>1</td>\n",
       "      <td>1</td>\n",
       "      <td>...</td>\n",
       "      <td>1</td>\n",
       "      <td>1</td>\n",
       "      <td>1</td>\n",
       "      <td>1</td>\n",
       "      <td>1</td>\n",
       "      <td>1</td>\n",
       "      <td>1</td>\n",
       "      <td>1</td>\n",
       "      <td>1</td>\n",
       "      <td>1</td>\n",
       "    </tr>\n",
       "    <tr>\n",
       "      <th>324</th>\n",
       "      <td>1</td>\n",
       "      <td>0</td>\n",
       "      <td>1</td>\n",
       "      <td>0</td>\n",
       "      <td>1</td>\n",
       "      <td>0</td>\n",
       "      <td>0</td>\n",
       "      <td>0</td>\n",
       "      <td>0</td>\n",
       "      <td>0</td>\n",
       "      <td>...</td>\n",
       "      <td>1</td>\n",
       "      <td>1</td>\n",
       "      <td>1</td>\n",
       "      <td>1</td>\n",
       "      <td>1</td>\n",
       "      <td>1</td>\n",
       "      <td>1</td>\n",
       "      <td>1</td>\n",
       "      <td>1</td>\n",
       "      <td>1</td>\n",
       "    </tr>\n",
       "    <tr>\n",
       "      <th>5863</th>\n",
       "      <td>1</td>\n",
       "      <td>0</td>\n",
       "      <td>1</td>\n",
       "      <td>1</td>\n",
       "      <td>0</td>\n",
       "      <td>1</td>\n",
       "      <td>1</td>\n",
       "      <td>1</td>\n",
       "      <td>1</td>\n",
       "      <td>1</td>\n",
       "      <td>...</td>\n",
       "      <td>1</td>\n",
       "      <td>0</td>\n",
       "      <td>1</td>\n",
       "      <td>1</td>\n",
       "      <td>1</td>\n",
       "      <td>1</td>\n",
       "      <td>1</td>\n",
       "      <td>1</td>\n",
       "      <td>1</td>\n",
       "      <td>1</td>\n",
       "    </tr>\n",
       "    <tr>\n",
       "      <th>86</th>\n",
       "      <td>1</td>\n",
       "      <td>1</td>\n",
       "      <td>1</td>\n",
       "      <td>1</td>\n",
       "      <td>0</td>\n",
       "      <td>1</td>\n",
       "      <td>1</td>\n",
       "      <td>1</td>\n",
       "      <td>1</td>\n",
       "      <td>1</td>\n",
       "      <td>...</td>\n",
       "      <td>1</td>\n",
       "      <td>0</td>\n",
       "      <td>1</td>\n",
       "      <td>1</td>\n",
       "      <td>1</td>\n",
       "      <td>1</td>\n",
       "      <td>1</td>\n",
       "      <td>1</td>\n",
       "      <td>1</td>\n",
       "      <td>1</td>\n",
       "    </tr>\n",
       "  </tbody>\n",
       "</table>\n",
       "<p>5 rows × 300 columns</p>\n",
       "</div>"
      ],
      "text/plain": [
       "      0    1    2    3    4    5    6    7    8    9    ...  290  291  292  \\\n",
       "2420    1    0    1    1    1    1    1    1    1    1  ...    1    1    1   \n",
       "1225    1    1    1    1    1    1    0    1    1    1  ...    1    1    1   \n",
       "324     1    0    1    0    1    0    0    0    0    0  ...    1    1    1   \n",
       "5863    1    0    1    1    0    1    1    1    1    1  ...    1    0    1   \n",
       "86      1    1    1    1    0    1    1    1    1    1  ...    1    0    1   \n",
       "\n",
       "      293  294  295  296  297  298  299  \n",
       "2420    1    1    1    1    1    1    1  \n",
       "1225    1    1    1    1    1    1    1  \n",
       "324     1    1    1    1    1    1    1  \n",
       "5863    1    1    1    1    1    1    1  \n",
       "86      1    1    1    1    1    1    1  \n",
       "\n",
       "[5 rows x 300 columns]"
      ]
     },
     "execution_count": 25,
     "metadata": {},
     "output_type": "execute_result"
    }
   ],
   "source": [
    "X_train_2.head()"
   ]
  },
  {
   "cell_type": "code",
   "execution_count": 26,
   "metadata": {},
   "outputs": [],
   "source": [
    "from sklearn.linear_model import LogisticRegressionCV"
   ]
  },
  {
   "cell_type": "code",
   "execution_count": 27,
   "metadata": {},
   "outputs": [
    {
     "data": {
      "text/plain": [
       "LogisticRegressionCV(Cs=10, class_weight=None, cv=5, dual=False,\n",
       "           fit_intercept=True, intercept_scaling=1.0, max_iter=100,\n",
       "           multi_class='warn', n_jobs=None, penalty='l2',\n",
       "           random_state=None, refit=True, scoring=None, solver='lbfgs',\n",
       "           tol=0.0001, verbose=0)"
      ]
     },
     "execution_count": 27,
     "metadata": {},
     "output_type": "execute_result"
    }
   ],
   "source": [
    "lr = LogisticRegressionCV(cv = 5)\n",
    "lr.fit(X_train_2, y_train)"
   ]
  },
  {
   "cell_type": "code",
   "execution_count": 28,
   "metadata": {},
   "outputs": [
    {
     "data": {
      "text/plain": [
       "array([[0.03477156, 0.03315128, 0.03267667, 0.03472701, 0.03387833,\n",
       "        0.0347765 , 0.0337944 , 0.032922  , 0.03439989, 0.03334572,\n",
       "        0.03418768, 0.03408931, 0.03422829, 0.03353003, 0.03451793,\n",
       "        0.0333781 , 0.03422397, 0.03436565, 0.03374108, 0.03265968,\n",
       "        0.03451014, 0.03314435, 0.03439023, 0.03389199, 0.03303562,\n",
       "        0.03319928, 0.03310443, 0.03405292, 0.03228877, 0.03374677,\n",
       "        0.03359154, 0.03356843, 0.03354061, 0.03380087, 0.0342601 ,\n",
       "        0.03448389, 0.03469949, 0.03288886, 0.03420737, 0.033813  ,\n",
       "        0.03367815, 0.03364314, 0.03358999, 0.03391867, 0.03473143,\n",
       "        0.03449637, 0.03502952, 0.03368402, 0.0352278 , 0.0339163 ,\n",
       "        0.03466894, 0.03362128, 0.03555121, 0.03435594, 0.03360872,\n",
       "        0.03347201, 0.03363641, 0.0339456 , 0.03367525, 0.03372893,\n",
       "        0.03356634, 0.03331287, 0.03425045, 0.0331551 , 0.03411797,\n",
       "        0.03445486, 0.03340942, 0.03484127, 0.03477382, 0.03412827,\n",
       "        0.03344546, 0.03382725, 0.03337155, 0.03387559, 0.03334701,\n",
       "        0.03520021, 0.03277154, 0.03236748, 0.03407577, 0.03458813,\n",
       "        0.03463664, 0.03387243, 0.03456685, 0.0344232 , 0.03388563,\n",
       "        0.03472429, 0.03471569, 0.03433563, 0.03379147, 0.03432588,\n",
       "        0.03382588, 0.0344729 , 0.03325141, 0.03314485, 0.03385291,\n",
       "        0.03387906, 0.03378653, 0.03470477, 0.03447506, 0.03479863,\n",
       "        0.0022545 , 0.00203466, 0.00234479, 0.00269322, 0.00319766,\n",
       "        0.00227644, 0.00301768, 0.0023417 , 0.00262647, 0.00223748,\n",
       "        0.00205737, 0.00227644, 0.00314464, 0.00206494, 0.00227644,\n",
       "        0.00295148, 0.00224619, 0.00444021, 0.00227644, 0.00216779,\n",
       "        0.00233876, 0.00197023, 0.00236365, 0.0022461 , 0.0023417 ,\n",
       "        0.00248383, 0.00243468, 0.00168618, 0.00209829, 0.00175396,\n",
       "        0.00171924, 0.00207154, 0.00335004, 0.00227644, 0.00268022,\n",
       "        0.0022545 , 0.0022461 , 0.0022545 , 0.00216792, 0.00329698,\n",
       "        0.00224493, 0.00242805, 0.00225305, 0.00223338, 0.00233774,\n",
       "        0.00304166, 0.00202725, 0.00216792, 0.0028769 , 0.00232572,\n",
       "        0.0022561 , 0.00197457, 0.00219007, 0.00227644, 0.00239206,\n",
       "        0.00223354, 0.00227644, 0.0032517 , 0.00251945, 0.00289154,\n",
       "        0.00216855, 0.00214892, 0.00228199, 0.0020541 , 0.00216855,\n",
       "        0.0022461 , 0.00227644, 0.0022461 , 0.00216883, 0.00227644,\n",
       "        0.00201919, 0.00216792, 0.00212911, 0.00212127, 0.00204063,\n",
       "        0.00219902, 0.00223354, 0.002135  , 0.0022545 , 0.00236643,\n",
       "        0.0022882 , 0.00227644, 0.00216792, 0.00219393, 0.00214607,\n",
       "        0.0017871 , 0.00203907, 0.00213492, 0.00199743, 0.002135  ,\n",
       "        0.00201194, 0.00216486, 0.00227059, 0.00224493, 0.00203466,\n",
       "        0.0019805 , 0.00219007, 0.00209314, 0.00471088, 0.0022461 ,\n",
       "        0.00276573, 0.00204634, 0.00209803, 0.00329067, 0.00237372,\n",
       "        0.00221516, 0.00199109, 0.00229243, 0.00212989, 0.0023611 ,\n",
       "        0.00210843, 0.00239214, 0.00301422, 0.00284399, 0.00263976,\n",
       "        0.00213227, 0.00244685, 0.00254624, 0.00204967, 0.00291747,\n",
       "        0.00261851, 0.00283104, 0.00288315, 0.00291748, 0.00275323,\n",
       "        0.00290099, 0.00223425, 0.00202817, 0.00295107, 0.00246301,\n",
       "        0.00206228, 0.00325396, 0.00202184, 0.00340949, 0.00267993,\n",
       "        0.00218736, 0.00275587, 0.00197669, 0.0023881 , 0.00310428,\n",
       "        0.00208484, 0.00196444, 0.00236323, 0.00218955, 0.00241359,\n",
       "        0.00259014, 0.00178209, 0.00251455, 0.00208834, 0.0029324 ,\n",
       "        0.0029959 , 0.00215392, 0.00217398, 0.00210077, 0.00217085,\n",
       "        0.00216747, 0.0020341 , 0.00243583, 0.00240499, 0.00286431,\n",
       "        0.00314806, 0.00321604, 0.00197355, 0.00245683, 0.00171857,\n",
       "        0.0025032 , 0.00250583, 0.00206853, 0.00260017, 0.00211408,\n",
       "        0.00223895, 0.00252995, 0.00241805, 0.00233172, 0.00253141,\n",
       "        0.00206335, 0.00250786, 0.00224217, 0.00257652, 0.00224521,\n",
       "        0.0027065 , 0.00239568, 0.00235739, 0.00208839, 0.00258625,\n",
       "        0.00254002, 0.00261637, 0.00248674, 0.00237603, 0.00396195,\n",
       "        0.00272743, 0.0025582 , 0.00244142, 0.00274981, 0.00189622,\n",
       "        0.00207588, 0.00288283, 0.00216317, 0.00286057, 0.00252377]])"
      ]
     },
     "execution_count": 28,
     "metadata": {},
     "output_type": "execute_result"
    }
   ],
   "source": [
    "lr.coef_"
   ]
  },
  {
   "cell_type": "code",
   "execution_count": 29,
   "metadata": {},
   "outputs": [],
   "source": [
    "y_pred = lr.predict(y_pred_df)"
   ]
  },
  {
   "cell_type": "code",
   "execution_count": 30,
   "metadata": {},
   "outputs": [
    {
     "name": "stdout",
     "output_type": "stream",
     "text": [
      "Accuracy: 0.6453333333333333\n",
      "F-1 Score: 0.6439089692101739\n"
     ]
    }
   ],
   "source": [
    "logistic_acc = accuracy_score(y_pred, y_test)\n",
    "logistic_f1 = f1_score(y_pred, y_test)\n",
    "\n",
    "print('Accuracy:',logistic_acc)\n",
    "print('F-1 Score:',logistic_f1)"
   ]
  },
  {
   "cell_type": "code",
   "execution_count": 31,
   "metadata": {},
   "outputs": [
    {
     "data": {
      "text/html": [
       "<div>\n",
       "<style scoped>\n",
       "    .dataframe tbody tr th:only-of-type {\n",
       "        vertical-align: middle;\n",
       "    }\n",
       "\n",
       "    .dataframe tbody tr th {\n",
       "        vertical-align: top;\n",
       "    }\n",
       "\n",
       "    .dataframe thead th {\n",
       "        text-align: right;\n",
       "    }\n",
       "</style>\n",
       "<table border=\"1\" class=\"dataframe\">\n",
       "  <thead>\n",
       "    <tr style=\"text-align: right;\">\n",
       "      <th></th>\n",
       "      <th>Accuracy</th>\n",
       "      <th>F-1 Score</th>\n",
       "    </tr>\n",
       "  </thead>\n",
       "  <tbody>\n",
       "    <tr>\n",
       "      <th>Decision Tree</th>\n",
       "      <td>0.542667</td>\n",
       "      <td>0.540214</td>\n",
       "    </tr>\n",
       "    <tr>\n",
       "      <th>Logistic Regression</th>\n",
       "      <td>0.617333</td>\n",
       "      <td>0.601942</td>\n",
       "    </tr>\n",
       "    <tr>\n",
       "      <th>100 Decision Trees (max_depth=None)</th>\n",
       "      <td>0.646667</td>\n",
       "      <td>0.651774</td>\n",
       "    </tr>\n",
       "    <tr>\n",
       "      <th>100 Decision Trees (max_depth=2)</th>\n",
       "      <td>0.642667</td>\n",
       "      <td>0.639300</td>\n",
       "    </tr>\n",
       "    <tr>\n",
       "      <th>100 Logistic Regression</th>\n",
       "      <td>0.622667</td>\n",
       "      <td>0.603641</td>\n",
       "    </tr>\n",
       "    <tr>\n",
       "      <th>Majority Voting</th>\n",
       "      <td>0.640000</td>\n",
       "      <td>0.625520</td>\n",
       "    </tr>\n",
       "    <tr>\n",
       "      <th>Weighted Voting</th>\n",
       "      <td>0.640667</td>\n",
       "      <td>0.625434</td>\n",
       "    </tr>\n",
       "    <tr>\n",
       "      <th>Stacking w/ Logistic</th>\n",
       "      <td>0.645333</td>\n",
       "      <td>0.643909</td>\n",
       "    </tr>\n",
       "  </tbody>\n",
       "</table>\n",
       "</div>"
      ],
      "text/plain": [
       "                                     Accuracy  F-1 Score\n",
       "Decision Tree                        0.542667   0.540214\n",
       "Logistic Regression                  0.617333   0.601942\n",
       "100 Decision Trees (max_depth=None)  0.646667   0.651774\n",
       "100 Decision Trees (max_depth=2)     0.642667   0.639300\n",
       "100 Logistic Regression              0.622667   0.603641\n",
       "Majority Voting                      0.640000   0.625520\n",
       "Weighted Voting                      0.640667   0.625434\n",
       "Stacking w/ Logistic                 0.645333   0.643909"
      ]
     },
     "execution_count": 31,
     "metadata": {},
     "output_type": "execute_result"
    }
   ],
   "source": [
    "results.loc['100 Decision Trees (max_depth=None)'] = [dt_acc, dt_f1]\n",
    "results.loc['100 Decision Trees (max_depth=2)'] = [dt_acc_2, dt_f1_2]\n",
    "results.loc['100 Logistic Regression'] = [lr_acc, lr_f1]\n",
    "results.loc['Majority Voting'] = [majority_acc, majority_f1]\n",
    "results.loc['Weighted Voting'] = [weighted_acc, weighted_f1]\n",
    "results.loc['Stacking w/ Logistic'] = [logistic_acc, logistic_f1]\n",
    "results"
   ]
  }
 ],
 "metadata": {
  "kernelspec": {
   "display_name": "Python 3",
   "language": "python",
   "name": "python3"
  },
  "language_info": {
   "codemirror_mode": {
    "name": "ipython",
    "version": 3
   },
   "file_extension": ".py",
   "mimetype": "text/x-python",
   "name": "python",
   "nbconvert_exporter": "python",
   "pygments_lexer": "ipython3",
   "version": "3.6.8"
  }
 },
 "nbformat": 4,
 "nbformat_minor": 1
}
